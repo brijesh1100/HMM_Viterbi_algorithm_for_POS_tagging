{
 "cells": [
  {
   "cell_type": "markdown",
   "metadata": {},
   "source": [
    "# POS tagging using modified Viterbi - Assignment"
   ]
  },
  {
   "cell_type": "markdown",
   "metadata": {},
   "source": [
    "### Data Preparation"
   ]
  },
  {
   "cell_type": "code",
   "execution_count": 2,
   "metadata": {
    "collapsed": true
   },
   "outputs": [],
   "source": [
    "#Importing libraries\n",
    "import nltk, re, pprint\n",
    "import numpy as np\n",
    "import pandas as pd\n",
    "import requests\n",
    "import matplotlib.pyplot as plt\n",
    "import seaborn as sns\n",
    "import pprint, time\n",
    "import random\n",
    "from sklearn.model_selection import train_test_split\n",
    "from nltk.tokenize import word_tokenize\n",
    "import codecs"
   ]
  },
  {
   "cell_type": "code",
   "execution_count": 3,
   "metadata": {
    "collapsed": true
   },
   "outputs": [],
   "source": [
    "# reading the Treebank tagged sentences with universal tagset\n",
    "nltk_data = list(nltk.corpus.treebank.tagged_sents(tagset='universal'))"
   ]
  },
  {
   "cell_type": "code",
   "execution_count": 4,
   "metadata": {},
   "outputs": [
    {
     "data": {
      "text/plain": [
       "[[('Pierre', 'NOUN'),\n",
       "  ('Vinken', 'NOUN'),\n",
       "  (',', '.'),\n",
       "  ('61', 'NUM'),\n",
       "  ('years', 'NOUN'),\n",
       "  ('old', 'ADJ'),\n",
       "  (',', '.'),\n",
       "  ('will', 'VERB'),\n",
       "  ('join', 'VERB'),\n",
       "  ('the', 'DET'),\n",
       "  ('board', 'NOUN'),\n",
       "  ('as', 'ADP'),\n",
       "  ('a', 'DET'),\n",
       "  ('nonexecutive', 'ADJ'),\n",
       "  ('director', 'NOUN'),\n",
       "  ('Nov.', 'NOUN'),\n",
       "  ('29', 'NUM'),\n",
       "  ('.', '.')],\n",
       " [('Mr.', 'NOUN'),\n",
       "  ('Vinken', 'NOUN'),\n",
       "  ('is', 'VERB'),\n",
       "  ('chairman', 'NOUN'),\n",
       "  ('of', 'ADP'),\n",
       "  ('Elsevier', 'NOUN'),\n",
       "  ('N.V.', 'NOUN'),\n",
       "  (',', '.'),\n",
       "  ('the', 'DET'),\n",
       "  ('Dutch', 'NOUN'),\n",
       "  ('publishing', 'VERB'),\n",
       "  ('group', 'NOUN'),\n",
       "  ('.', '.')],\n",
       " [('Rudolph', 'NOUN'),\n",
       "  ('Agnew', 'NOUN'),\n",
       "  (',', '.'),\n",
       "  ('55', 'NUM'),\n",
       "  ('years', 'NOUN'),\n",
       "  ('old', 'ADJ'),\n",
       "  ('and', 'CONJ'),\n",
       "  ('former', 'ADJ'),\n",
       "  ('chairman', 'NOUN'),\n",
       "  ('of', 'ADP'),\n",
       "  ('Consolidated', 'NOUN'),\n",
       "  ('Gold', 'NOUN'),\n",
       "  ('Fields', 'NOUN'),\n",
       "  ('PLC', 'NOUN'),\n",
       "  (',', '.'),\n",
       "  ('was', 'VERB'),\n",
       "  ('named', 'VERB'),\n",
       "  ('*-1', 'X'),\n",
       "  ('a', 'DET'),\n",
       "  ('nonexecutive', 'ADJ'),\n",
       "  ('director', 'NOUN'),\n",
       "  ('of', 'ADP'),\n",
       "  ('this', 'DET'),\n",
       "  ('British', 'ADJ'),\n",
       "  ('industrial', 'ADJ'),\n",
       "  ('conglomerate', 'NOUN'),\n",
       "  ('.', '.')]]"
      ]
     },
     "execution_count": 4,
     "metadata": {},
     "output_type": "execute_result"
    }
   ],
   "source": [
    "#First three sentences in te dataset\n",
    "nltk_data[:3]"
   ]
  },
  {
   "cell_type": "markdown",
   "metadata": {},
   "source": [
    "__Splitting Data into Training & Test__"
   ]
  },
  {
   "cell_type": "code",
   "execution_count": 5,
   "metadata": {},
   "outputs": [
    {
     "name": "stdout",
     "output_type": "stream",
     "text": [
      "3718\n",
      "196\n"
     ]
    },
    {
     "name": "stderr",
     "output_type": "stream",
     "text": [
      "c:\\python3\\lib\\site-packages\\sklearn\\model_selection\\_split.py:2026: FutureWarning: From version 0.21, test_size will always complement train_size unless both are specified.\n",
      "  FutureWarning)\n"
     ]
    }
   ],
   "source": [
    "#set the random seed\n",
    "random.seed(1234)\n",
    "\n",
    "#Divide the data into training and test sets\n",
    "train_set, test_set = train_test_split(nltk_data,train_size=0.95)\n",
    "\n",
    "#Get the length of training and test sets\n",
    "print(len(train_set))\n",
    "print(len(test_set))"
   ]
  },
  {
   "cell_type": "code",
   "execution_count": 6,
   "metadata": {},
   "outputs": [
    {
     "data": {
      "text/plain": [
       "95678"
      ]
     },
     "execution_count": 6,
     "metadata": {},
     "output_type": "execute_result"
    }
   ],
   "source": [
    "train_tagged_words = [tup for sent in train_set for tup in sent]\n",
    "#Length of the total tagged words in the training set\n",
    "len(train_tagged_words)\n",
    "\n",
    "# test_tagged_words = [tup for sent in test_set for tup in sent]\n",
    "# len(test_tagged_words)"
   ]
  },
  {
   "cell_type": "code",
   "execution_count": 7,
   "metadata": {},
   "outputs": [
    {
     "data": {
      "text/plain": [
       "['Old', 'Spaghetti', 'Warehouse', 'rose', '1', 'to', '16', '1\\\\/8', '.', 'The']"
      ]
     },
     "execution_count": 7,
     "metadata": {},
     "output_type": "execute_result"
    }
   ],
   "source": [
    "#Sample tokens from the overall set\n",
    "tokens = [pair[0] for pair in train_tagged_words]\n",
    "tokens[:10]"
   ]
  },
  {
   "cell_type": "code",
   "execution_count": 8,
   "metadata": {},
   "outputs": [
    {
     "name": "stdout",
     "output_type": "stream",
     "text": [
      "12083\n"
     ]
    }
   ],
   "source": [
    "# Total unique words in the training set\n",
    "V = set(tokens)\n",
    "print(len(V))"
   ]
  },
  {
   "cell_type": "code",
   "execution_count": 9,
   "metadata": {},
   "outputs": [
    {
     "name": "stdout",
     "output_type": "stream",
     "text": [
      "12\n",
      "{'VERB', 'ADJ', '.', 'CONJ', 'NUM', 'PRT', 'X', 'ADV', 'DET', 'ADP', 'PRON', 'NOUN'}\n"
     ]
    }
   ],
   "source": [
    "# Count of POS tags in the training set\n",
    "T = set([pair[1] for pair in train_tagged_words])\n",
    "print(len(T))\n",
    "print(T)"
   ]
  },
  {
   "cell_type": "markdown",
   "metadata": {},
   "source": [
    "The number of tags in the universal tagset is 12"
   ]
  },
  {
   "cell_type": "markdown",
   "metadata": {},
   "source": [
    "### Build the vanilla Viterbi based POS tagger"
   ]
  },
  {
   "cell_type": "code",
   "execution_count": 10,
   "metadata": {
    "collapsed": true
   },
   "outputs": [],
   "source": [
    "#Creation of array between POS tags & Vocabulary for computing P(w/t) and storing in T x V matrix\n",
    "t = len(T)\n",
    "v = len(V)\n",
    "w_given_t = np.zeros((t, v))"
   ]
  },
  {
   "cell_type": "code",
   "execution_count": 11,
   "metadata": {
    "collapsed": true
   },
   "outputs": [],
   "source": [
    "# compute word given tag: Emission Probability\n",
    "def word_given_tag(word, tag, train_bag = train_tagged_words):\n",
    "    tag_list = [pair for pair in train_bag if pair[1]==tag]\n",
    "    count_tag = len(tag_list)\n",
    "    w_given_tag_list = [pair[0] for pair in tag_list if pair[0]==word]\n",
    "    count_w_given_tag = len(w_given_tag_list)\n",
    "    \n",
    "    return (count_w_given_tag, count_tag)"
   ]
  },
  {
   "cell_type": "code",
   "execution_count": 12,
   "metadata": {
    "collapsed": true
   },
   "outputs": [],
   "source": [
    "# compute tag given tag: tag2(t2) given tag1 (t1), i.e. Transition Probability\n",
    "\n",
    "def t2_given_t1(t2, t1, train_bag = train_tagged_words):\n",
    "    tags = [pair[1] for pair in train_bag]\n",
    "    count_t1 = len([t for t in tags if t==t1])\n",
    "    count_t2_t1 = 0\n",
    "    for index in range(len(tags)-1):\n",
    "        if tags[index]==t1 and tags[index+1] == t2:\n",
    "            count_t2_t1 += 1\n",
    "    return (count_t2_t1, count_t1)"
   ]
  },
  {
   "cell_type": "code",
   "execution_count": 13,
   "metadata": {
    "collapsed": true
   },
   "outputs": [],
   "source": [
    "# creating t x t (pos tags x pos tags)transition matrix of tags\n",
    "# each column is t2, each row is t1\n",
    "# thus M(i, j) represents P(tj given ti)\n",
    "\n",
    "tags_matrix = np.zeros((len(T), len(T)), dtype='float32')\n",
    "for i, t1 in enumerate(list(T)):\n",
    "    for j, t2 in enumerate(list(T)): \n",
    "        tags_matrix[i, j] = t2_given_t1(t2, t1)[0]/t2_given_t1(t2, t1)[1]"
   ]
  },
  {
   "cell_type": "code",
   "execution_count": 14,
   "metadata": {},
   "outputs": [
    {
     "data": {
      "text/html": [
       "<div>\n",
       "<style scoped>\n",
       "    .dataframe tbody tr th:only-of-type {\n",
       "        vertical-align: middle;\n",
       "    }\n",
       "\n",
       "    .dataframe tbody tr th {\n",
       "        vertical-align: top;\n",
       "    }\n",
       "\n",
       "    .dataframe thead th {\n",
       "        text-align: right;\n",
       "    }\n",
       "</style>\n",
       "<table border=\"1\" class=\"dataframe\">\n",
       "  <thead>\n",
       "    <tr style=\"text-align: right;\">\n",
       "      <th></th>\n",
       "      <th>VERB</th>\n",
       "      <th>ADJ</th>\n",
       "      <th>.</th>\n",
       "      <th>CONJ</th>\n",
       "      <th>NUM</th>\n",
       "      <th>PRT</th>\n",
       "      <th>X</th>\n",
       "      <th>ADV</th>\n",
       "      <th>DET</th>\n",
       "      <th>ADP</th>\n",
       "      <th>PRON</th>\n",
       "      <th>NOUN</th>\n",
       "    </tr>\n",
       "  </thead>\n",
       "  <tbody>\n",
       "    <tr>\n",
       "      <th>VERB</th>\n",
       "      <td>0.168537</td>\n",
       "      <td>0.065542</td>\n",
       "      <td>0.034899</td>\n",
       "      <td>0.005417</td>\n",
       "      <td>0.023214</td>\n",
       "      <td>0.031494</td>\n",
       "      <td>0.217132</td>\n",
       "      <td>0.081328</td>\n",
       "      <td>0.134179</td>\n",
       "      <td>0.092239</td>\n",
       "      <td>0.035441</td>\n",
       "      <td>0.110578</td>\n",
       "    </tr>\n",
       "    <tr>\n",
       "      <th>ADJ</th>\n",
       "      <td>0.012171</td>\n",
       "      <td>0.067763</td>\n",
       "      <td>0.064474</td>\n",
       "      <td>0.016941</td>\n",
       "      <td>0.020888</td>\n",
       "      <td>0.011020</td>\n",
       "      <td>0.021382</td>\n",
       "      <td>0.004770</td>\n",
       "      <td>0.004770</td>\n",
       "      <td>0.078454</td>\n",
       "      <td>0.000658</td>\n",
       "      <td>0.696711</td>\n",
       "    </tr>\n",
       "    <tr>\n",
       "      <th>.</th>\n",
       "      <td>0.089991</td>\n",
       "      <td>0.044274</td>\n",
       "      <td>0.093508</td>\n",
       "      <td>0.057980</td>\n",
       "      <td>0.080343</td>\n",
       "      <td>0.002344</td>\n",
       "      <td>0.027142</td>\n",
       "      <td>0.052750</td>\n",
       "      <td>0.175383</td>\n",
       "      <td>0.091253</td>\n",
       "      <td>0.066817</td>\n",
       "      <td>0.218124</td>\n",
       "    </tr>\n",
       "    <tr>\n",
       "      <th>CONJ</th>\n",
       "      <td>0.157723</td>\n",
       "      <td>0.112926</td>\n",
       "      <td>0.035464</td>\n",
       "      <td>0.000467</td>\n",
       "      <td>0.041064</td>\n",
       "      <td>0.005133</td>\n",
       "      <td>0.008399</td>\n",
       "      <td>0.053196</td>\n",
       "      <td>0.121792</td>\n",
       "      <td>0.051797</td>\n",
       "      <td>0.060663</td>\n",
       "      <td>0.351377</td>\n",
       "    </tr>\n",
       "    <tr>\n",
       "      <th>NUM</th>\n",
       "      <td>0.018419</td>\n",
       "      <td>0.033868</td>\n",
       "      <td>0.117053</td>\n",
       "      <td>0.013666</td>\n",
       "      <td>0.185086</td>\n",
       "      <td>0.027629</td>\n",
       "      <td>0.207071</td>\n",
       "      <td>0.002674</td>\n",
       "      <td>0.003268</td>\n",
       "      <td>0.034462</td>\n",
       "      <td>0.001485</td>\n",
       "      <td>0.355318</td>\n",
       "    </tr>\n",
       "    <tr>\n",
       "      <th>PRT</th>\n",
       "      <td>0.401562</td>\n",
       "      <td>0.085584</td>\n",
       "      <td>0.043280</td>\n",
       "      <td>0.002278</td>\n",
       "      <td>0.057598</td>\n",
       "      <td>0.001627</td>\n",
       "      <td>0.013993</td>\n",
       "      <td>0.009112</td>\n",
       "      <td>0.100879</td>\n",
       "      <td>0.020827</td>\n",
       "      <td>0.018223</td>\n",
       "      <td>0.245037</td>\n",
       "    </tr>\n",
       "    <tr>\n",
       "      <th>X</th>\n",
       "      <td>0.204585</td>\n",
       "      <td>0.016717</td>\n",
       "      <td>0.163509</td>\n",
       "      <td>0.009712</td>\n",
       "      <td>0.002866</td>\n",
       "      <td>0.186117</td>\n",
       "      <td>0.074829</td>\n",
       "      <td>0.026588</td>\n",
       "      <td>0.053495</td>\n",
       "      <td>0.146155</td>\n",
       "      <td>0.055087</td>\n",
       "      <td>0.060341</td>\n",
       "    </tr>\n",
       "    <tr>\n",
       "      <th>ADV</th>\n",
       "      <td>0.344862</td>\n",
       "      <td>0.129365</td>\n",
       "      <td>0.136349</td>\n",
       "      <td>0.007316</td>\n",
       "      <td>0.031926</td>\n",
       "      <td>0.014300</td>\n",
       "      <td>0.021949</td>\n",
       "      <td>0.079814</td>\n",
       "      <td>0.070170</td>\n",
       "      <td>0.117060</td>\n",
       "      <td>0.014633</td>\n",
       "      <td>0.032258</td>\n",
       "    </tr>\n",
       "    <tr>\n",
       "      <th>DET</th>\n",
       "      <td>0.041084</td>\n",
       "      <td>0.203976</td>\n",
       "      <td>0.017229</td>\n",
       "      <td>0.000482</td>\n",
       "      <td>0.022169</td>\n",
       "      <td>0.000241</td>\n",
       "      <td>0.045904</td>\n",
       "      <td>0.012651</td>\n",
       "      <td>0.004940</td>\n",
       "      <td>0.009518</td>\n",
       "      <td>0.003253</td>\n",
       "      <td>0.638554</td>\n",
       "    </tr>\n",
       "    <tr>\n",
       "      <th>ADP</th>\n",
       "      <td>0.008407</td>\n",
       "      <td>0.106843</td>\n",
       "      <td>0.039694</td>\n",
       "      <td>0.000958</td>\n",
       "      <td>0.061828</td>\n",
       "      <td>0.001490</td>\n",
       "      <td>0.034798</td>\n",
       "      <td>0.013728</td>\n",
       "      <td>0.323720</td>\n",
       "      <td>0.016920</td>\n",
       "      <td>0.069277</td>\n",
       "      <td>0.322337</td>\n",
       "    </tr>\n",
       "    <tr>\n",
       "      <th>PRON</th>\n",
       "      <td>0.484674</td>\n",
       "      <td>0.071264</td>\n",
       "      <td>0.040996</td>\n",
       "      <td>0.004981</td>\n",
       "      <td>0.006897</td>\n",
       "      <td>0.012644</td>\n",
       "      <td>0.093487</td>\n",
       "      <td>0.034100</td>\n",
       "      <td>0.009962</td>\n",
       "      <td>0.022605</td>\n",
       "      <td>0.007663</td>\n",
       "      <td>0.210728</td>\n",
       "    </tr>\n",
       "    <tr>\n",
       "      <th>NOUN</th>\n",
       "      <td>0.147110</td>\n",
       "      <td>0.012186</td>\n",
       "      <td>0.238872</td>\n",
       "      <td>0.042469</td>\n",
       "      <td>0.009596</td>\n",
       "      <td>0.043892</td>\n",
       "      <td>0.029116</td>\n",
       "      <td>0.016820</td>\n",
       "      <td>0.012916</td>\n",
       "      <td>0.177248</td>\n",
       "      <td>0.004670</td>\n",
       "      <td>0.265105</td>\n",
       "    </tr>\n",
       "  </tbody>\n",
       "</table>\n",
       "</div>"
      ],
      "text/plain": [
       "          VERB       ADJ         .      CONJ       NUM       PRT         X  \\\n",
       "VERB  0.168537  0.065542  0.034899  0.005417  0.023214  0.031494  0.217132   \n",
       "ADJ   0.012171  0.067763  0.064474  0.016941  0.020888  0.011020  0.021382   \n",
       ".     0.089991  0.044274  0.093508  0.057980  0.080343  0.002344  0.027142   \n",
       "CONJ  0.157723  0.112926  0.035464  0.000467  0.041064  0.005133  0.008399   \n",
       "NUM   0.018419  0.033868  0.117053  0.013666  0.185086  0.027629  0.207071   \n",
       "PRT   0.401562  0.085584  0.043280  0.002278  0.057598  0.001627  0.013993   \n",
       "X     0.204585  0.016717  0.163509  0.009712  0.002866  0.186117  0.074829   \n",
       "ADV   0.344862  0.129365  0.136349  0.007316  0.031926  0.014300  0.021949   \n",
       "DET   0.041084  0.203976  0.017229  0.000482  0.022169  0.000241  0.045904   \n",
       "ADP   0.008407  0.106843  0.039694  0.000958  0.061828  0.001490  0.034798   \n",
       "PRON  0.484674  0.071264  0.040996  0.004981  0.006897  0.012644  0.093487   \n",
       "NOUN  0.147110  0.012186  0.238872  0.042469  0.009596  0.043892  0.029116   \n",
       "\n",
       "           ADV       DET       ADP      PRON      NOUN  \n",
       "VERB  0.081328  0.134179  0.092239  0.035441  0.110578  \n",
       "ADJ   0.004770  0.004770  0.078454  0.000658  0.696711  \n",
       ".     0.052750  0.175383  0.091253  0.066817  0.218124  \n",
       "CONJ  0.053196  0.121792  0.051797  0.060663  0.351377  \n",
       "NUM   0.002674  0.003268  0.034462  0.001485  0.355318  \n",
       "PRT   0.009112  0.100879  0.020827  0.018223  0.245037  \n",
       "X     0.026588  0.053495  0.146155  0.055087  0.060341  \n",
       "ADV   0.079814  0.070170  0.117060  0.014633  0.032258  \n",
       "DET   0.012651  0.004940  0.009518  0.003253  0.638554  \n",
       "ADP   0.013728  0.323720  0.016920  0.069277  0.322337  \n",
       "PRON  0.034100  0.009962  0.022605  0.007663  0.210728  \n",
       "NOUN  0.016820  0.012916  0.177248  0.004670  0.265105  "
      ]
     },
     "execution_count": 14,
     "metadata": {},
     "output_type": "execute_result"
    }
   ],
   "source": [
    "# convert the matrix to a df for better readability\n",
    "tags_df = pd.DataFrame(tags_matrix, columns = list(T), index=list(T))\n",
    "tags_df"
   ]
  },
  {
   "cell_type": "code",
   "execution_count": 15,
   "metadata": {},
   "outputs": [
    {
     "data": {
      "image/png": "[encoded data removed]",
      "text/plain": [
       "<matplotlib.figure.Figure at 0x1d1e8f372b0>"
      ]
     },
     "metadata": {},
     "output_type": "display_data"
    }
   ],
   "source": [
    "# heatmap of tags matrix\n",
    "# T(i, j) indicates P(tag j given tag i)\n",
    "plt.figure(figsize=(18, 12))\n",
    "sns.heatmap(tags_df)\n",
    "plt.show()"
   ]
  },
  {
   "cell_type": "code",
   "execution_count": 16,
   "metadata": {},
   "outputs": [
    {
     "data": {
      "image/png": "[encoded data removed]",
      "text/plain": [
       "<matplotlib.figure.Figure at 0x1d1ebd68860>"
      ]
     },
     "metadata": {},
     "output_type": "display_data"
    }
   ],
   "source": [
    "# frequent tags\n",
    "# filter the df to get P(t2, t1) > 0.5\n",
    "tags_frequent = tags_df[tags_df>0.5]\n",
    "plt.figure(figsize=(18, 12))\n",
    "sns.heatmap(tags_frequent)\n",
    "plt.show()"
   ]
  },
  {
   "cell_type": "markdown",
   "metadata": {},
   "source": [
    "As per the matrix it's observed that the Noun tag is highly correlated with Adjective and Determinent. It is also particular that many a times nouns are followed by adjectives and detectives"
   ]
  },
  {
   "cell_type": "code",
   "execution_count": 17,
   "metadata": {},
   "outputs": [
    {
     "data": {
      "text/plain": [
       "95678"
      ]
     },
     "execution_count": 17,
     "metadata": {},
     "output_type": "execute_result"
    }
   ],
   "source": [
    "#Get the total length of tagged words in training corpus\n",
    "len(train_tagged_words)"
   ]
  },
  {
   "cell_type": "code",
   "execution_count": 18,
   "metadata": {
    "collapsed": true
   },
   "outputs": [],
   "source": [
    "# Viterbi Heuristic\n",
    "def Viterbi(words, train_bag = train_tagged_words):\n",
    "    state = []\n",
    "    T = list(set([pair[1] for pair in train_bag]))\n",
    "    \n",
    "    for key, word in enumerate(words):\n",
    "        #initialise list of probability column for a given observation\n",
    "        p = [] \n",
    "        for tag in T:\n",
    "            if key == 0:\n",
    "                transition_p = tags_df.loc['.', tag]\n",
    "            else:\n",
    "                transition_p = tags_df.loc[state[-1], tag]\n",
    "                \n",
    "            # compute emission and state probabilities\n",
    "            emission_p = word_given_tag(words[key], tag)[0]/word_given_tag(words[key], tag)[1]\n",
    "            state_probability = emission_p * transition_p    \n",
    "            p.append(state_probability)\n",
    "            \n",
    "        pmax = max(p)\n",
    "        # getting state for which probability is maximum\n",
    "        state_max = T[p.index(pmax)] \n",
    "        state.append(state_max)\n",
    "    return list(zip(words, state))"
   ]
  },
  {
   "cell_type": "code",
   "execution_count": 19,
   "metadata": {
    "collapsed": true
   },
   "outputs": [],
   "source": [
    "# list of tagged words in test set\n",
    "test_run_base = [tup for sent in test_set for tup in sent]\n",
    "\n",
    "# list of  words which are untagged in test set\n",
    "test_tagged_words = [tup[0] for sent in test_set for tup in sent]"
   ]
  },
  {
   "cell_type": "code",
   "execution_count": 20,
   "metadata": {
    "collapsed": true
   },
   "outputs": [],
   "source": [
    "# tagging the test sentences\n",
    "start = time.time()\n",
    "tagged_seq = Viterbi(test_tagged_words)\n",
    "end = time.time()\n",
    "difference = end-start"
   ]
  },
  {
   "cell_type": "code",
   "execution_count": 21,
   "metadata": {},
   "outputs": [
    {
     "name": "stdout",
     "output_type": "stream",
     "text": [
      "765.2703437805176\n"
     ]
    }
   ],
   "source": [
    "#Print total time taken to train the algorithm\n",
    "print(difference)"
   ]
  },
  {
   "cell_type": "code",
   "execution_count": 22,
   "metadata": {},
   "outputs": [
    {
     "name": "stdout",
     "output_type": "stream",
     "text": [
      "0.9125650260104041\n"
     ]
    }
   ],
   "source": [
    "# Get accuracy of model\n",
    "check = [i for i, j in zip(tagged_seq, test_run_base) if i == j] \n",
    "accuracy = len(check)/len(tagged_seq)\n",
    "print(accuracy)"
   ]
  },
  {
   "cell_type": "markdown",
   "metadata": {},
   "source": [
    "We are getting an accuracy of around 91% with the default Viterbi algorithm."
   ]
  }
 ],
 "metadata": {
  "kernelspec": {
   "display_name": "Python [Anaconda2]",
   "language": "python",
   "name": "Python [Anaconda2]"
  },
  "language_info": {
   "codemirror_mode": {
    "name": "ipython",
    "version": 2
   },
   "file_extension": ".py",
   "mimetype": "text/x-python",
   "name": "python",
   "nbconvert_exporter": "python",
   "pygments_lexer": "ipython2",
   "version": "2.7.13"
  }
 },
 "nbformat": 4,
 "nbformat_minor": 2
}
