{
 "cells": [
  {
   "cell_type": "markdown",
   "metadata": {},
   "source": [
    "## POS tagging using modified Viterbi"
   ]
  },
  {
   "cell_type": "markdown",
   "metadata": {},
   "source": [
    "### Data Preparation"
   ]
  },
  {
   "cell_type": "code",
   "execution_count": 1,
   "metadata": {},
   "outputs": [],
   "source": [
    "#Importing libraries\n",
    "import nltk, re, pprint\n",
    "import numpy as np\n",
    "import pandas as pd\n",
    "import requests\n",
    "import matplotlib.pyplot as plt\n",
    "import seaborn as sns\n",
    "import pprint, time\n",
    "import random\n",
    "from sklearn.model_selection import train_test_split\n",
    "from nltk.tokenize import word_tokenize"
   ]
  },
  {
   "cell_type": "code",
   "execution_count": 2,
   "metadata": {},
   "outputs": [],
   "source": [
    "# reading the Treebank tagged sentences\n",
    "nltk_data = list(nltk.corpus.treebank.tagged_sents(tagset='universal'))"
   ]
  },
  {
   "cell_type": "code",
   "execution_count": 3,
   "metadata": {},
   "outputs": [
    {
     "name": "stdout",
     "output_type": "stream",
     "text": [
      "[[('Pierre', 'NOUN'), ('Vinken', 'NOUN'), (',', '.'), ('61', 'NUM'), ('years', 'NOUN'), ('old', 'ADJ'), (',', '.'), ('will', 'VERB'), ('join', 'VERB'), ('the', 'DET'), ('board', 'NOUN'), ('as', 'ADP'), ('a', 'DET'), ('nonexecutive', 'ADJ'), ('director', 'NOUN'), ('Nov.', 'NOUN'), ('29', 'NUM'), ('.', '.')], [('Mr.', 'NOUN'), ('Vinken', 'NOUN'), ('is', 'VERB'), ('chairman', 'NOUN'), ('of', 'ADP'), ('Elsevier', 'NOUN'), ('N.V.', 'NOUN'), (',', '.'), ('the', 'DET'), ('Dutch', 'NOUN'), ('publishing', 'VERB'), ('group', 'NOUN'), ('.', '.')], [('Rudolph', 'NOUN'), ('Agnew', 'NOUN'), (',', '.'), ('55', 'NUM'), ('years', 'NOUN'), ('old', 'ADJ'), ('and', 'CONJ'), ('former', 'ADJ'), ('chairman', 'NOUN'), ('of', 'ADP'), ('Consolidated', 'NOUN'), ('Gold', 'NOUN'), ('Fields', 'NOUN'), ('PLC', 'NOUN'), (',', '.'), ('was', 'VERB'), ('named', 'VERB'), ('*-1', 'X'), ('a', 'DET'), ('nonexecutive', 'ADJ'), ('director', 'NOUN'), ('of', 'ADP'), ('this', 'DET'), ('British', 'ADJ'), ('industrial', 'ADJ'), ('conglomerate', 'NOUN'), ('.', '.')], [('A', 'DET'), ('form', 'NOUN'), ('of', 'ADP'), ('asbestos', 'NOUN'), ('once', 'ADV'), ('used', 'VERB'), ('*', 'X'), ('*', 'X'), ('to', 'PRT'), ('make', 'VERB'), ('Kent', 'NOUN'), ('cigarette', 'NOUN'), ('filters', 'NOUN'), ('has', 'VERB'), ('caused', 'VERB'), ('a', 'DET'), ('high', 'ADJ'), ('percentage', 'NOUN'), ('of', 'ADP'), ('cancer', 'NOUN'), ('deaths', 'NOUN'), ('among', 'ADP'), ('a', 'DET'), ('group', 'NOUN'), ('of', 'ADP'), ('workers', 'NOUN'), ('exposed', 'VERB'), ('*', 'X'), ('to', 'PRT'), ('it', 'PRON'), ('more', 'ADV'), ('than', 'ADP'), ('30', 'NUM'), ('years', 'NOUN'), ('ago', 'ADP'), (',', '.'), ('researchers', 'NOUN'), ('reported', 'VERB'), ('0', 'X'), ('*T*-1', 'X'), ('.', '.')], [('The', 'DET'), ('asbestos', 'NOUN'), ('fiber', 'NOUN'), (',', '.'), ('crocidolite', 'NOUN'), (',', '.'), ('is', 'VERB'), ('unusually', 'ADV'), ('resilient', 'ADJ'), ('once', 'ADP'), ('it', 'PRON'), ('enters', 'VERB'), ('the', 'DET'), ('lungs', 'NOUN'), (',', '.'), ('with', 'ADP'), ('even', 'ADV'), ('brief', 'ADJ'), ('exposures', 'NOUN'), ('to', 'PRT'), ('it', 'PRON'), ('causing', 'VERB'), ('symptoms', 'NOUN'), ('that', 'DET'), ('*T*-1', 'X'), ('show', 'VERB'), ('up', 'PRT'), ('decades', 'NOUN'), ('later', 'ADJ'), (',', '.'), ('researchers', 'NOUN'), ('said', 'VERB'), ('0', 'X'), ('*T*-2', 'X'), ('.', '.')], [('Lorillard', 'NOUN'), ('Inc.', 'NOUN'), (',', '.'), ('the', 'DET'), ('unit', 'NOUN'), ('of', 'ADP'), ('New', 'ADJ'), ('York-based', 'ADJ'), ('Loews', 'NOUN'), ('Corp.', 'NOUN'), ('that', 'DET'), ('*T*-2', 'X'), ('makes', 'VERB'), ('Kent', 'NOUN'), ('cigarettes', 'NOUN'), (',', '.'), ('stopped', 'VERB'), ('using', 'VERB'), ('crocidolite', 'NOUN'), ('in', 'ADP'), ('its', 'PRON'), ('Micronite', 'NOUN'), ('cigarette', 'NOUN'), ('filters', 'NOUN'), ('in', 'ADP'), ('1956', 'NUM'), ('.', '.')], [('Although', 'ADP'), ('preliminary', 'ADJ'), ('findings', 'NOUN'), ('were', 'VERB'), ('reported', 'VERB'), ('*-2', 'X'), ('more', 'ADV'), ('than', 'ADP'), ('a', 'DET'), ('year', 'NOUN'), ('ago', 'ADP'), (',', '.'), ('the', 'DET'), ('latest', 'ADJ'), ('results', 'NOUN'), ('appear', 'VERB'), ('in', 'ADP'), ('today', 'NOUN'), (\"'s\", 'PRT'), ('New', 'NOUN'), ('England', 'NOUN'), ('Journal', 'NOUN'), ('of', 'ADP'), ('Medicine', 'NOUN'), (',', '.'), ('a', 'DET'), ('forum', 'NOUN'), ('likely', 'ADJ'), ('*', 'X'), ('to', 'PRT'), ('bring', 'VERB'), ('new', 'ADJ'), ('attention', 'NOUN'), ('to', 'PRT'), ('the', 'DET'), ('problem', 'NOUN'), ('.', '.')], [('A', 'DET'), ('Lorillard', 'NOUN'), ('spokewoman', 'NOUN'), ('said', 'VERB'), (',', '.'), ('``', '.'), ('This', 'DET'), ('is', 'VERB'), ('an', 'DET'), ('old', 'ADJ'), ('story', 'NOUN'), ('.', '.')], [('We', 'PRON'), (\"'re\", 'VERB'), ('talking', 'VERB'), ('about', 'ADP'), ('years', 'NOUN'), ('ago', 'ADP'), ('before', 'ADP'), ('anyone', 'NOUN'), ('heard', 'VERB'), ('of', 'ADP'), ('asbestos', 'NOUN'), ('having', 'VERB'), ('any', 'DET'), ('questionable', 'ADJ'), ('properties', 'NOUN'), ('.', '.')], [('There', 'DET'), ('is', 'VERB'), ('no', 'DET'), ('asbestos', 'NOUN'), ('in', 'ADP'), ('our', 'PRON'), ('products', 'NOUN'), ('now', 'ADV'), ('.', '.'), (\"''\", '.')], [('Neither', 'DET'), ('Lorillard', 'NOUN'), ('nor', 'CONJ'), ('the', 'DET'), ('researchers', 'NOUN'), ('who', 'PRON'), ('*T*-3', 'X'), ('studied', 'VERB'), ('the', 'DET'), ('workers', 'NOUN'), ('were', 'VERB'), ('aware', 'ADJ'), ('of', 'ADP'), ('any', 'DET'), ('research', 'NOUN'), ('on', 'ADP'), ('smokers', 'NOUN'), ('of', 'ADP'), ('the', 'DET'), ('Kent', 'NOUN'), ('cigarettes', 'NOUN'), ('.', '.')], [('``', '.'), ('We', 'PRON'), ('have', 'VERB'), ('no', 'DET'), ('useful', 'ADJ'), ('information', 'NOUN'), ('on', 'ADP'), ('whether', 'ADP'), ('users', 'NOUN'), ('are', 'VERB'), ('at', 'ADP'), ('risk', 'NOUN'), (',', '.'), (\"''\", '.'), ('said', 'VERB'), ('*T*-1', 'X'), ('James', 'NOUN'), ('A.', 'NOUN'), ('Talcott', 'NOUN'), ('of', 'ADP'), ('Boston', 'NOUN'), (\"'s\", 'PRT'), ('Dana-Farber', 'NOUN'), ('Cancer', 'NOUN'), ('Institute', 'NOUN'), ('.', '.')], [('Dr.', 'NOUN'), ('Talcott', 'NOUN'), ('led', 'VERB'), ('a', 'DET'), ('team', 'NOUN'), ('of', 'ADP'), ('researchers', 'NOUN'), ('from', 'ADP'), ('the', 'DET'), ('National', 'NOUN'), ('Cancer', 'NOUN'), ('Institute', 'NOUN'), ('and', 'CONJ'), ('the', 'DET'), ('medical', 'ADJ'), ('schools', 'NOUN'), ('of', 'ADP'), ('Harvard', 'NOUN'), ('University', 'NOUN'), ('and', 'CONJ'), ('Boston', 'NOUN'), ('University', 'NOUN'), ('.', '.')], [('The', 'DET'), ('Lorillard', 'NOUN'), ('spokeswoman', 'NOUN'), ('said', 'VERB'), ('0', 'X'), ('asbestos', 'NOUN'), ('was', 'VERB'), ('used', 'VERB'), ('*-1', 'X'), ('in', 'ADP'), ('``', '.'), ('very', 'ADV'), ('modest', 'ADJ'), ('amounts', 'NOUN'), (\"''\", '.'), ('in', 'ADP'), ('*', 'X'), ('making', 'VERB'), ('paper', 'NOUN'), ('for', 'ADP'), ('the', 'DET'), ('filters', 'NOUN'), ('in', 'ADP'), ('the', 'DET'), ('early', 'ADJ'), ('1950s', 'NUM'), ('and', 'CONJ'), ('replaced', 'VERB'), ('*-1', 'X'), ('with', 'ADP'), ('a', 'DET'), ('different', 'ADJ'), ('type', 'NOUN'), ('of', 'ADP'), ('filter', 'NOUN'), ('in', 'ADP'), ('1956', 'NUM'), ('.', '.')], [('From', 'ADP'), ('1953', 'NUM'), ('to', 'PRT'), ('1955', 'NUM'), (',', '.'), ('9.8', 'NUM'), ('billion', 'NUM'), ('Kent', 'NOUN'), ('cigarettes', 'NOUN'), ('with', 'ADP'), ('the', 'DET'), ('filters', 'NOUN'), ('were', 'VERB'), ('sold', 'VERB'), ('*-3', 'X'), (',', '.'), ('the', 'DET'), ('company', 'NOUN'), ('said', 'VERB'), ('0', 'X'), ('*T*-1', 'X'), ('.', '.')], [('Among', 'ADP'), ('33', 'NUM'), ('men', 'NOUN'), ('who', 'PRON'), ('*T*-4', 'X'), ('worked', 'VERB'), ('closely', 'ADV'), ('with', 'ADP'), ('the', 'DET'), ('substance', 'NOUN'), (',', '.'), ('28', 'NUM'), ('*ICH*-1', 'X'), ('have', 'VERB'), ('died', 'VERB'), ('--', '.'), ('more', 'ADJ'), ('than', 'ADP'), ('three', 'NUM'), ('times', 'NOUN'), ('the', 'DET'), ('expected', 'VERB'), ('number', 'NOUN'), ('.', '.')], [('Four', 'NUM'), ('of', 'ADP'), ('the', 'DET'), ('five', 'NUM'), ('surviving', 'VERB'), ('workers', 'NOUN'), ('have', 'VERB'), ('asbestos-related', 'ADJ'), ('diseases', 'NOUN'), (',', '.'), ('including', 'VERB'), ('three', 'NUM'), ('with', 'ADP'), ('recently', 'ADV'), ('diagnosed', 'VERB'), ('cancer', 'NOUN'), ('.', '.')], [('The', 'DET'), ('total', 'NOUN'), ('of', 'ADP'), ('18', 'NUM'), ('deaths', 'NOUN'), ('from', 'ADP'), ('malignant', 'ADJ'), ('mesothelioma', 'NOUN'), (',', '.'), ('lung', 'NOUN'), ('cancer', 'NOUN'), ('and', 'CONJ'), ('asbestosis', 'NOUN'), ('was', 'VERB'), ('far', 'ADV'), ('higher', 'ADJ'), ('than', 'ADP'), ('*', 'X'), ('expected', 'VERB'), ('*?*', 'X'), (',', '.'), ('the', 'DET'), ('researchers', 'NOUN'), ('said', 'VERB'), ('0', 'X'), ('*T*-1', 'X'), ('.', '.')], [('``', '.'), ('The', 'DET'), ('morbidity', 'NOUN'), ('rate', 'NOUN'), ('is', 'VERB'), ('a', 'DET'), ('striking', 'ADJ'), ('finding', 'NOUN'), ('among', 'ADP'), ('those', 'DET'), ('of', 'ADP'), ('us', 'PRON'), ('who', 'PRON'), ('*T*-5', 'X'), ('study', 'VERB'), ('asbestos-related', 'ADJ'), ('diseases', 'NOUN'), (',', '.'), (\"''\", '.'), ('said', 'VERB'), ('*T*-1', 'X'), ('Dr.', 'NOUN'), ('Talcott', 'NOUN'), ('.', '.')], [('The', 'DET'), ('percentage', 'NOUN'), ('of', 'ADP'), ('lung', 'NOUN'), ('cancer', 'NOUN'), ('deaths', 'NOUN'), ('among', 'ADP'), ('the', 'DET'), ('workers', 'NOUN'), ('at', 'ADP'), ('the', 'DET'), ('West', 'NOUN'), ('Groton', 'NOUN'), (',', '.'), ('Mass.', 'NOUN'), (',', '.'), ('paper', 'NOUN'), ('factory', 'NOUN'), ('appears', 'VERB'), ('*-1', 'X'), ('to', 'PRT'), ('be', 'VERB'), ('the', 'DET'), ('highest', 'ADJ'), ('for', 'ADP'), ('any', 'DET'), ('asbestos', 'NOUN'), ('workers', 'NOUN'), ('studied', 'VERB'), ('*', 'X'), ('in', 'ADP'), ('Western', 'ADJ'), ('industrialized', 'VERB'), ('countries', 'NOUN'), (',', '.'), ('he', 'PRON'), ('said', 'VERB'), ('0', 'X'), ('*T*-2', 'X'), ('.', '.')], [('The', 'DET'), ('plant', 'NOUN'), (',', '.'), ('which', 'DET'), ('*T*-1', 'X'), ('is', 'VERB'), ('owned', 'VERB'), ('*-4', 'X'), ('by', 'ADP'), ('Hollingsworth', 'NOUN'), ('&', 'CONJ'), ('Vose', 'NOUN'), ('Co.', 'NOUN'), (',', '.'), ('was', 'VERB'), ('under', 'ADP'), ('contract', 'NOUN'), ('*ICH*-2', 'X'), ('with', 'ADP'), ('Lorillard', 'NOUN'), ('*', 'X'), ('to', 'PRT'), ('make', 'VERB'), ('the', 'DET'), ('cigarette', 'NOUN'), ('filters', 'NOUN'), ('.', '.')], [('The', 'DET'), ('finding', 'NOUN'), ('probably', 'ADV'), ('will', 'VERB'), ('support', 'VERB'), ('those', 'DET'), ('who', 'PRON'), ('*T*-6', 'X'), ('argue', 'VERB'), ('that', 'ADP'), ('the', 'DET'), ('U.S.', 'NOUN'), ('should', 'VERB'), ('regulate', 'VERB'), ('the', 'DET'), ('class', 'NOUN'), ('of', 'ADP'), ('asbestos', 'NOUN'), ('including', 'VERB'), ('crocidolite', 'NOUN'), ('more', 'ADV'), ('stringently', 'ADV'), ('than', 'ADP'), ('the', 'DET'), ('common', 'ADJ'), ('kind', 'NOUN'), ('of', 'ADP'), ('asbestos', 'NOUN'), (',', '.'), ('chrysotile', 'NOUN'), (',', '.'), ('found', 'VERB'), ('*', 'X'), ('in', 'ADP'), ('most', 'ADJ'), ('schools', 'NOUN'), ('and', 'CONJ'), ('other', 'ADJ'), ('buildings', 'NOUN'), (',', '.'), ('Dr.', 'NOUN'), ('Talcott', 'NOUN'), ('said', 'VERB'), ('0', 'X'), ('*T*-1', 'X'), ('.', '.')], [('The', 'DET'), ('U.S.', 'NOUN'), ('is', 'VERB'), ('one', 'NUM'), ('of', 'ADP'), ('the', 'DET'), ('few', 'ADJ'), ('industrialized', 'VERB'), ('nations', 'NOUN'), ('that', 'DET'), ('*T*-7', 'X'), ('does', 'VERB'), (\"n't\", 'ADV'), ('have', 'VERB'), ('a', 'DET'), ('higher', 'ADJ'), ('standard', 'NOUN'), ('of', 'ADP'), ('regulation', 'NOUN'), ('for', 'ADP'), ('the', 'DET'), ('smooth', 'ADJ'), (',', '.'), ('needle-like', 'ADJ'), ('fibers', 'NOUN'), ('such', 'ADJ'), ('as', 'ADP'), ('crocidolite', 'NOUN'), ('that', 'DET'), ('*T*-1', 'X'), ('are', 'VERB'), ('classified', 'VERB'), ('*-5', 'X'), ('as', 'ADP'), ('amphobiles', 'NOUN'), (',', '.'), ('according', 'VERB'), ('to', 'PRT'), ('Brooke', 'NOUN'), ('T.', 'NOUN'), ('Mossman', 'NOUN'), (',', '.'), ('a', 'DET'), ('professor', 'NOUN'), ('of', 'ADP'), ('pathlogy', 'NOUN'), ('at', 'ADP'), ('the', 'DET'), ('University', 'NOUN'), ('of', 'ADP'), ('Vermont', 'NOUN'), ('College', 'NOUN'), ('of', 'ADP'), ('Medicine', 'NOUN'), ('.', '.')], [('More', 'ADV'), ('common', 'ADJ'), ('chrysotile', 'NOUN'), ('fibers', 'NOUN'), ('are', 'VERB'), ('curly', 'ADJ'), ('and', 'CONJ'), ('are', 'VERB'), ('more', 'ADV'), ('easily', 'ADV'), ('rejected', 'VERB'), ('*-1', 'X'), ('by', 'ADP'), ('the', 'DET'), ('body', 'NOUN'), (',', '.'), ('Dr.', 'NOUN'), ('Mossman', 'NOUN'), ('explained', 'VERB'), ('0', 'X'), ('*T*-2', 'X'), ('.', '.')], [('In', 'ADP'), ('July', 'NOUN'), (',', '.'), ('the', 'DET'), ('Environmental', 'NOUN'), ('Protection', 'NOUN'), ('Agency', 'NOUN'), ('imposed', 'VERB'), ('a', 'DET'), ('gradual', 'ADJ'), ('ban', 'NOUN'), ('on', 'ADP'), ('virtually', 'ADV'), ('all', 'DET'), ('uses', 'NOUN'), ('of', 'ADP'), ('asbestos', 'NOUN'), ('.', '.')], [('By', 'ADP'), ('1997', 'NUM'), (',', '.'), ('almost', 'ADV'), ('all', 'DET'), ('remaining', 'VERB'), ('uses', 'NOUN'), ('of', 'ADP'), ('cancer-causing', 'ADJ'), ('asbestos', 'NOUN'), ('will', 'VERB'), ('be', 'VERB'), ('outlawed', 'VERB'), ('*-6', 'X'), ('.', '.')], [('About', 'ADP'), ('160', 'NUM'), ('workers', 'NOUN'), ('at', 'ADP'), ('a', 'DET'), ('factory', 'NOUN'), ('that', 'DET'), ('*T*-8', 'X'), ('made', 'VERB'), ('paper', 'NOUN'), ('for', 'ADP'), ('the', 'DET'), ('Kent', 'NOUN'), ('filters', 'NOUN'), ('were', 'VERB'), ('exposed', 'VERB'), ('*-7', 'X'), ('to', 'PRT'), ('asbestos', 'NOUN'), ('in', 'ADP'), ('the', 'DET'), ('1950s', 'NUM'), ('.', '.')], [('Areas', 'NOUN'), ('of', 'ADP'), ('the', 'DET'), ('factory', 'NOUN'), ('*ICH*-2', 'X'), ('were', 'VERB'), ('particularly', 'ADV'), ('dusty', 'ADJ'), ('where', 'ADV'), ('the', 'DET'), ('crocidolite', 'NOUN'), ('was', 'VERB'), ('used', 'VERB'), ('*-8', 'X'), ('*T*-1', 'X'), ('.', '.')], [('Workers', 'NOUN'), ('dumped', 'VERB'), ('large', 'ADJ'), ('burlap', 'NOUN'), ('sacks', 'NOUN'), ('of', 'ADP'), ('the', 'DET'), ('imported', 'VERB'), ('material', 'NOUN'), ('into', 'ADP'), ('a', 'DET'), ('huge', 'ADJ'), ('bin', 'NOUN'), (',', '.'), ('poured', 'VERB'), ('in', 'PRT'), ('cotton', 'NOUN'), ('and', 'CONJ'), ('acetate', 'NOUN'), ('fibers', 'NOUN'), ('and', 'CONJ'), ('mechanically', 'ADV'), ('mixed', 'VERB'), ('the', 'DET'), ('dry', 'ADJ'), ('fibers', 'NOUN'), ('in', 'ADP'), ('a', 'DET'), ('process', 'NOUN'), ('used', 'VERB'), ('*', 'X'), ('*', 'X'), ('to', 'PRT'), ('make', 'VERB'), ('filters', 'NOUN'), ('.', '.')], [('Workers', 'NOUN'), ('described', 'VERB'), ('``', '.'), ('clouds', 'NOUN'), ('of', 'ADP'), ('blue', 'ADJ'), ('dust', 'NOUN'), (\"''\", '.'), ('that', 'DET'), ('*T*-1', 'X'), ('hung', 'VERB'), ('over', 'ADP'), ('parts', 'NOUN'), ('of', 'ADP'), ('the', 'DET'), ('factory', 'NOUN'), (',', '.'), ('even', 'ADV'), ('though', 'ADP'), ('exhaust', 'NOUN'), ('fans', 'NOUN'), ('ventilated', 'VERB'), ('the', 'DET'), ('area', 'NOUN'), ('.', '.')], [('``', '.'), ('There', 'DET'), (\"'s\", 'VERB'), ('no', 'DET'), ('question', 'NOUN'), ('that', 'ADP'), ('some', 'DET'), ('of', 'ADP'), ('those', 'DET'), ('workers', 'NOUN'), ('and', 'CONJ'), ('managers', 'NOUN'), ('contracted', 'VERB'), ('asbestos-related', 'ADJ'), ('diseases', 'NOUN'), (',', '.'), (\"''\", '.'), ('said', 'VERB'), ('*T*-1', 'X'), ('Darrell', 'NOUN'), ('Phillips', 'NOUN'), (',', '.'), ('vice', 'NOUN'), ('president', 'NOUN'), ('of', 'ADP'), ('human', 'ADJ'), ('resources', 'NOUN'), ('for', 'ADP'), ('Hollingsworth', 'NOUN'), ('&', 'CONJ'), ('Vose', 'NOUN'), ('.', '.')], [('``', '.'), ('But', 'CONJ'), ('you', 'PRON'), ('have', 'VERB'), ('*-1', 'X'), ('to', 'PRT'), ('recognize', 'VERB'), ('that', 'ADP'), ('these', 'DET'), ('events', 'NOUN'), ('took', 'VERB'), ('place', 'NOUN'), ('35', 'NUM'), ('years', 'NOUN'), ('ago', 'ADP'), ('.', '.')], [('It', 'PRON'), ('has', 'VERB'), ('no', 'DET'), ('bearing', 'NOUN'), ('on', 'ADP'), ('our', 'PRON'), ('work', 'NOUN'), ('force', 'NOUN'), ('today', 'NOUN'), ('.', '.')], [('Yields', 'NOUN'), ('on', 'ADP'), ('money-market', 'ADJ'), ('mutual', 'ADJ'), ('funds', 'NOUN'), ('continued', 'VERB'), ('*-1', 'X'), ('to', 'PRT'), ('slide', 'VERB'), (',', '.'), ('amid', 'ADP'), ('signs', 'NOUN'), ('that', 'ADP'), ('portfolio', 'NOUN'), ('managers', 'NOUN'), ('expect', 'VERB'), ('further', 'ADJ'), ('declines', 'NOUN'), ('in', 'ADP'), ('interest', 'NOUN'), ('rates', 'NOUN'), ('.', '.')], [('The', 'DET'), ('average', 'ADJ'), ('seven-day', 'ADJ'), ('compound', 'NOUN'), ('yield', 'NOUN'), ('of', 'ADP'), ('the', 'DET'), ('400', 'NUM'), ('taxable', 'ADJ'), ('funds', 'NOUN'), ('tracked', 'VERB'), ('*', 'X'), ('by', 'ADP'), ('IBC', 'NOUN'), (\"'s\", 'PRT'), ('Money', 'NOUN'), ('Fund', 'NOUN'), ('Report', 'NOUN'), ('eased', 'VERB'), ('a', 'DET'), ('fraction', 'NOUN'), ('of', 'ADP'), ('a', 'DET'), ('percentage', 'NOUN'), ('point', 'NOUN'), ('to', 'PRT'), ('8.45', 'NUM'), ('%', 'NOUN'), ('from', 'ADP'), ('8.47', 'NUM'), ('%', 'NOUN'), ('for', 'ADP'), ('the', 'DET'), ('week', 'NOUN'), ('ended', 'VERB'), ('Tuesday', 'NOUN'), ('.', '.')], [('Compound', 'NOUN'), ('yields', 'NOUN'), ('assume', 'VERB'), ('reinvestment', 'NOUN'), ('of', 'ADP'), ('dividends', 'NOUN'), ('and', 'CONJ'), ('that', 'ADP'), ('the', 'DET'), ('current', 'ADJ'), ('yield', 'NOUN'), ('continues', 'VERB'), ('for', 'ADP'), ('a', 'DET'), ('year', 'NOUN'), ('.', '.')], [('Average', 'ADJ'), ('maturity', 'NOUN'), ('of', 'ADP'), ('the', 'DET'), ('funds', 'NOUN'), (\"'\", 'PRT'), ('investments', 'NOUN'), ('lengthened', 'VERB'), ('by', 'ADP'), ('a', 'DET'), ('day', 'NOUN'), ('to', 'PRT'), ('41', 'NUM'), ('days', 'NOUN'), (',', '.'), ('the', 'DET'), ('longest', 'ADJ'), ('since', 'ADP'), ('early', 'ADJ'), ('August', 'NOUN'), (',', '.'), ('according', 'VERB'), ('to', 'PRT'), ('Donoghue', 'NOUN'), (\"'s\", 'PRT'), ('.', '.')], [('Longer', 'ADJ'), ('maturities', 'NOUN'), ('are', 'VERB'), ('thought', 'VERB'), ('*-1', 'X'), ('to', 'PRT'), ('indicate', 'VERB'), ('declining', 'VERB'), ('interest', 'NOUN'), ('rates', 'NOUN'), ('because', 'ADP'), ('they', 'PRON'), ('permit', 'VERB'), ('portfolio', 'NOUN'), ('managers', 'NOUN'), ('to', 'PRT'), ('retain', 'VERB'), ('relatively', 'ADV'), ('higher', 'ADJ'), ('rates', 'NOUN'), ('for', 'ADP'), ('a', 'DET'), ('longer', 'ADJ'), ('period', 'NOUN'), ('.', '.')], [('Shorter', 'ADJ'), ('maturities', 'NOUN'), ('are', 'VERB'), ('considered', 'VERB'), ('*-9', 'X'), ('a', 'DET'), ('sign', 'NOUN'), ('of', 'ADP'), ('rising', 'VERB'), ('rates', 'NOUN'), ('because', 'ADP'), ('portfolio', 'NOUN'), ('managers', 'NOUN'), ('can', 'VERB'), ('capture', 'VERB'), ('higher', 'ADJ'), ('rates', 'NOUN'), ('sooner', 'ADV'), ('.', '.')], [('The', 'DET'), ('average', 'ADJ'), ('maturity', 'NOUN'), ('for', 'ADP'), ('funds', 'NOUN'), ('open', 'ADJ'), ('only', 'ADV'), ('to', 'PRT'), ('institutions', 'NOUN'), (',', '.'), ('considered', 'VERB'), ('by', 'ADP'), ('some', 'DET'), ('*', 'X'), ('to', 'PRT'), ('be', 'VERB'), ('a', 'DET'), ('stronger', 'ADJ'), ('indicator', 'NOUN'), ('because', 'ADP'), ('those', 'DET'), ('managers', 'NOUN'), ('watch', 'VERB'), ('the', 'DET'), ('market', 'NOUN'), ('closely', 'ADV'), (',', '.'), ('reached', 'VERB'), ('a', 'DET'), ('high', 'ADJ'), ('point', 'NOUN'), ('for', 'ADP'), ('the', 'DET'), ('year', 'NOUN'), ('--', '.'), ('33', 'NUM'), ('days', 'NOUN'), ('.', '.')]]\n"
     ]
    }
   ],
   "source": [
    "print(nltk_data[:40])"
   ]
  },
  {
   "cell_type": "code",
   "execution_count": 4,
   "metadata": {},
   "outputs": [
    {
     "name": "stdout",
     "output_type": "stream",
     "text": [
      "3718\n",
      "196\n"
     ]
    }
   ],
   "source": [
    "#Spliting into Train and Test with a sample size of 95:5 \n",
    "\n",
    "random.seed(1234)\n",
    "train_set, valid_set = train_test_split(nltk_data,test_size=0.05)\n",
    "print(len(train_set))\n",
    "print(len(valid_set))"
   ]
  },
  {
   "cell_type": "code",
   "execution_count": 5,
   "metadata": {},
   "outputs": [
    {
     "data": {
      "text/plain": [
       "95588"
      ]
     },
     "execution_count": 5,
     "metadata": {},
     "output_type": "execute_result"
    }
   ],
   "source": [
    "train_tagged_words = [tup for sent in train_set for tup in sent]\n",
    "len(train_tagged_words)"
   ]
  },
  {
   "cell_type": "code",
   "execution_count": 6,
   "metadata": {},
   "outputs": [
    {
     "data": {
      "text/plain": [
       "['The', '$', '35.7', 'million', '*U*', 'net', 'loss', 'equals', '86', 'cents']"
      ]
     },
     "execution_count": 6,
     "metadata": {},
     "output_type": "execute_result"
    }
   ],
   "source": [
    "# tokens \n",
    "tokens = [pair[0] for pair in train_tagged_words]\n",
    "tokens[:10]"
   ]
  },
  {
   "cell_type": "code",
   "execution_count": 7,
   "metadata": {},
   "outputs": [
    {
     "name": "stdout",
     "output_type": "stream",
     "text": [
      "12030\n"
     ]
    }
   ],
   "source": [
    "# vocabulary\n",
    "V = set(tokens)\n",
    "print(len(V))"
   ]
  },
  {
   "cell_type": "code",
   "execution_count": 8,
   "metadata": {},
   "outputs": [
    {
     "name": "stdout",
     "output_type": "stream",
     "text": [
      "12\n",
      "{'PRON', 'DET', 'NUM', 'NOUN', '.', 'ADV', 'ADP', 'ADJ', 'CONJ', 'X', 'PRT', 'VERB'}\n"
     ]
    }
   ],
   "source": [
    "# number of tags\n",
    "T = set([pair[1] for pair in train_tagged_words])\n",
    "print(len(T))\n",
    "print(T)"
   ]
  },
  {
   "cell_type": "code",
   "execution_count": 9,
   "metadata": {},
   "outputs": [
    {
     "data": {
      "text/plain": [
       "Counter({'DET': 8292,\n",
       "         '.': 11117,\n",
       "         'NUM': 3292,\n",
       "         'X': 6302,\n",
       "         'ADJ': 6065,\n",
       "         'NOUN': 27423,\n",
       "         'VERB': 12899,\n",
       "         'ADP': 9353,\n",
       "         'CONJ': 2160,\n",
       "         'PRT': 3057,\n",
       "         'PRON': 2614,\n",
       "         'ADV': 3014})"
      ]
     },
     "execution_count": 9,
     "metadata": {},
     "output_type": "execute_result"
    }
   ],
   "source": [
    "tag = [pair[1] for pair in train_tagged_words]\n",
    "from collections import Counter\n",
    "tag_counts = Counter(tag)\n",
    "tag_counts"
   ]
  },
  {
   "cell_type": "code",
   "execution_count": 10,
   "metadata": {},
   "outputs": [
    {
     "data": {
      "text/plain": [
       "[('NOUN', 27423), ('VERB', 12899), ('.', 11117), ('ADP', 9353), ('DET', 8292)]"
      ]
     },
     "execution_count": 10,
     "metadata": {},
     "output_type": "execute_result"
    }
   ],
   "source": [
    "# the most common tags can be seen using the most_common() method of Counter\n",
    "tag_counts.most_common(5)"
   ]
  },
  {
   "cell_type": "markdown",
   "metadata": {},
   "source": [
    "## Emission Probabilities"
   ]
  },
  {
   "cell_type": "code",
   "execution_count": 11,
   "metadata": {},
   "outputs": [],
   "source": [
    "# computing P(w/t) and storing in T x V matrix\n",
    "t = len(T)\n",
    "v = len(V)\n",
    "w_given_t = np.zeros((t, v))"
   ]
  },
  {
   "cell_type": "code",
   "execution_count": 12,
   "metadata": {},
   "outputs": [],
   "source": [
    "# compute word given tag: Emission Probability\n",
    "def word_given_tag(word, tag, train_bag = train_tagged_words):\n",
    "    tag_list = [pair for pair in train_bag if pair[1]==tag]\n",
    "    count_tag = len(tag_list)\n",
    "    w_given_tag_list = [pair[0] for pair in tag_list if pair[0]==word]\n",
    "    count_w_given_tag = len(w_given_tag_list)\n",
    "    \n",
    "    return (count_w_given_tag, count_tag)"
   ]
  },
  {
   "cell_type": "code",
   "execution_count": 13,
   "metadata": {},
   "outputs": [
    {
     "name": "stdout",
     "output_type": "stream",
     "text": [
      "\n",
      " Andriod\n",
      "(0, 9353)\n",
      "(0, 12899)\n",
      "(0, 11117)\n",
      "(0, 8292)\n",
      "(0, 27423) \n",
      "\n"
     ]
    }
   ],
   "source": [
    "# examples\n",
    "\n",
    "# large\n",
    "print(\"\\n\", \"Andriod\")\n",
    "print(word_given_tag('Andriod', 'ADP'))\n",
    "print(word_given_tag('Andriod', 'VERB'))\n",
    "print(word_given_tag('Andriod', '.'))\n",
    "print(word_given_tag('Andriod', 'DET'))\n",
    "print(word_given_tag('Andriod', 'NOUN'), \"\\n\")\n",
    "\n"
   ]
  },
  {
   "cell_type": "markdown",
   "metadata": {},
   "source": [
    "## Transition Probabilities"
   ]
  },
  {
   "cell_type": "code",
   "execution_count": 14,
   "metadata": {},
   "outputs": [],
   "source": [
    "# compute tag given tag: tag2(t2) given tag1 (t1), i.e. Transition Probability\n",
    "\n",
    "def t2_given_t1(t2, t1, train_bag = train_tagged_words):\n",
    "    tags = [pair[1] for pair in train_bag]\n",
    "    count_t1 = len([t for t in tags if t==t1])\n",
    "    count_t2_t1 = 0\n",
    "    for index in range(len(tags)-1):\n",
    "        if tags[index]==t1 and tags[index+1] == t2:\n",
    "            count_t2_t1 += 1\n",
    "    return (count_t2_t1, count_t1)"
   ]
  },
  {
   "cell_type": "code",
   "execution_count": 15,
   "metadata": {},
   "outputs": [
    {
     "name": "stdout",
     "output_type": "stream",
     "text": [
      "(1418, 12899)\n",
      "(5307, 8292)\n",
      "(4028, 27423)\n",
      "(0, 0)\n",
      "(0, 0)\n",
      "(0, 0)\n",
      "(0, 0)\n"
     ]
    }
   ],
   "source": [
    "# examples\n",
    "print(t2_given_t1(t2='NOUN', t1='VERB'))\n",
    "print(t2_given_t1('NOUN', 'DET'))\n",
    "print(t2_given_t1('VERB', 'NOUN'))\n",
    "print(t2_given_t1('NNP', 'VB'))\n",
    "print(t2_given_t1(',', 'NNP'))\n",
    "print(t2_given_t1('PRP', 'PRP'))\n",
    "print(t2_given_t1('VBG', 'NNP'))"
   ]
  },
  {
   "cell_type": "code",
   "execution_count": 16,
   "metadata": {},
   "outputs": [],
   "source": [
    "# creating t x t transition matrix of tags\n",
    "# each column is t2, each row is t1\n",
    "# thus M(i, j) represents P(tj given ti)\n",
    "tags_matrix = np.zeros((len(T), len(T)), dtype='float32')\n",
    "for i, t1 in enumerate(list(T)):\n",
    "    for j, t2 in enumerate(list(T)): \n",
    "        tags_matrix[i, j] = t2_given_t1(t2, t1)[0]/t2_given_t1(t2, t1)[1]"
   ]
  },
  {
   "cell_type": "code",
   "execution_count": 17,
   "metadata": {},
   "outputs": [
    {
     "data": {
      "text/plain": [
       "array([[7.65110925e-03, 9.56388656e-03, 7.65110925e-03, 2.05432281e-01,\n",
       "        4.05508801e-02, 3.32823247e-02, 2.29533277e-02, 7.38332048e-02,\n",
       "        5.35577675e-03, 9.48737562e-02, 1.22417752e-02, 4.86610562e-01],\n",
       "       [3.49734677e-03, 5.66811394e-03, 2.24312600e-02, 6.40014470e-01,\n",
       "        1.72455385e-02, 1.24216108e-02, 9.40665696e-03, 2.04052106e-01,\n",
       "        4.82392672e-04, 4.46213223e-02, 2.41196336e-04, 3.99179943e-02],\n",
       "       [1.51883357e-03, 2.43013375e-03, 1.80133656e-01, 3.55103284e-01,\n",
       "        1.19684085e-01, 2.73390044e-03, 3.61482389e-02, 3.31105702e-02,\n",
       "        1.39732687e-02, 2.11725399e-01, 2.64277030e-02, 1.70109365e-02],\n",
       "       [4.92287474e-03, 1.30547350e-02, 9.18936636e-03, 2.64631867e-01,\n",
       "        2.40236297e-01, 1.71388984e-02, 1.76348314e-01, 1.20336944e-02,\n",
       "        4.28107791e-02, 2.90996600e-02, 4.36494909e-02, 1.46884009e-01],\n",
       "       [6.65647238e-02, 1.74867317e-01, 7.96977580e-02, 2.21642524e-01,\n",
       "        9.37303230e-02, 5.26221097e-02, 9.07618925e-02, 4.32670675e-02,\n",
       "        5.83790578e-02, 2.70756502e-02, 2.51866505e-03, 8.87829438e-02],\n",
       "       [1.49303256e-02, 6.80159256e-02, 3.18513587e-02, 2.98606511e-02,\n",
       "        1.35368288e-01, 8.06237534e-02, 1.19442604e-01, 1.30391508e-01,\n",
       "        6.63569989e-03, 2.35567354e-02, 1.39349699e-02, 3.45388174e-01],\n",
       "       [6.84272423e-02, 3.22997957e-01, 6.28675297e-02, 3.23746383e-01,\n",
       "        3.92387472e-02, 1.31508606e-02, 1.72137283e-02, 1.06703728e-01,\n",
       "        8.55340506e-04, 3.50689627e-02, 1.49684597e-03, 8.23265221e-03],\n",
       "       [6.59521844e-04, 4.94641392e-03, 2.04451773e-02, 6.98928297e-01,\n",
       "        6.43033832e-02, 4.94641392e-03, 7.74938166e-02, 6.71063513e-02,\n",
       "        1.68178063e-02, 2.17642207e-02, 1.03874691e-02, 1.22011546e-02],\n",
       "       [6.06481470e-02, 1.19907409e-01, 4.12037037e-02, 3.51851851e-01,\n",
       "        3.51851843e-02, 5.27777784e-02, 5.23148142e-02, 1.16203703e-01,\n",
       "        4.62962955e-04, 8.33333377e-03, 5.09259244e-03, 1.56018525e-01],\n",
       "       [5.53792454e-02, 5.49032055e-02, 1.90415746e-03, 6.29958734e-02,\n",
       "        1.62805453e-01, 2.49127261e-02, 1.44715965e-01, 1.71374176e-02,\n",
       "        1.04728658e-02, 7.37861022e-02, 1.85814023e-01, 2.05172956e-01],\n",
       "       [1.79914944e-02, 1.02060847e-01, 5.43016046e-02, 2.47628391e-01,\n",
       "        4.18711156e-02, 1.04677789e-02, 2.02813223e-02, 8.50507021e-02,\n",
       "        2.28982652e-03, 1.40660778e-02, 1.63559045e-03, 4.02355254e-01],\n",
       "       [3.57392058e-02, 1.34584069e-01, 2.17071082e-02, 1.09931000e-01,\n",
       "        3.48089002e-02, 8.22544396e-02, 9.09372792e-02, 6.53539002e-02,\n",
       "        5.34925191e-03, 2.19474375e-01, 3.13977823e-02, 1.68462679e-01]],\n",
       "      dtype=float32)"
      ]
     },
     "execution_count": 17,
     "metadata": {},
     "output_type": "execute_result"
    }
   ],
   "source": [
    "tags_matrix"
   ]
  },
  {
   "cell_type": "code",
   "execution_count": 18,
   "metadata": {},
   "outputs": [],
   "source": [
    "# convert the matrix to a df for better readability\n",
    "tags_df = pd.DataFrame(tags_matrix, columns = list(T), index=list(T))"
   ]
  },
  {
   "cell_type": "code",
   "execution_count": 19,
   "metadata": {},
   "outputs": [
    {
     "data": {
      "text/html": [
       "<div>\n",
       "<style scoped>\n",
       "    .dataframe tbody tr th:only-of-type {\n",
       "        vertical-align: middle;\n",
       "    }\n",
       "\n",
       "    .dataframe tbody tr th {\n",
       "        vertical-align: top;\n",
       "    }\n",
       "\n",
       "    .dataframe thead th {\n",
       "        text-align: right;\n",
       "    }\n",
       "</style>\n",
       "<table border=\"1\" class=\"dataframe\">\n",
       "  <thead>\n",
       "    <tr style=\"text-align: right;\">\n",
       "      <th></th>\n",
       "      <th>PRON</th>\n",
       "      <th>DET</th>\n",
       "      <th>NUM</th>\n",
       "      <th>NOUN</th>\n",
       "      <th>.</th>\n",
       "      <th>ADV</th>\n",
       "      <th>ADP</th>\n",
       "      <th>ADJ</th>\n",
       "      <th>CONJ</th>\n",
       "      <th>X</th>\n",
       "      <th>PRT</th>\n",
       "      <th>VERB</th>\n",
       "    </tr>\n",
       "  </thead>\n",
       "  <tbody>\n",
       "    <tr>\n",
       "      <th>PRON</th>\n",
       "      <td>0.007651</td>\n",
       "      <td>0.009564</td>\n",
       "      <td>0.007651</td>\n",
       "      <td>0.205432</td>\n",
       "      <td>0.040551</td>\n",
       "      <td>0.033282</td>\n",
       "      <td>0.022953</td>\n",
       "      <td>0.073833</td>\n",
       "      <td>0.005356</td>\n",
       "      <td>0.094874</td>\n",
       "      <td>0.012242</td>\n",
       "      <td>0.486611</td>\n",
       "    </tr>\n",
       "    <tr>\n",
       "      <th>DET</th>\n",
       "      <td>0.003497</td>\n",
       "      <td>0.005668</td>\n",
       "      <td>0.022431</td>\n",
       "      <td>0.640014</td>\n",
       "      <td>0.017246</td>\n",
       "      <td>0.012422</td>\n",
       "      <td>0.009407</td>\n",
       "      <td>0.204052</td>\n",
       "      <td>0.000482</td>\n",
       "      <td>0.044621</td>\n",
       "      <td>0.000241</td>\n",
       "      <td>0.039918</td>\n",
       "    </tr>\n",
       "    <tr>\n",
       "      <th>NUM</th>\n",
       "      <td>0.001519</td>\n",
       "      <td>0.002430</td>\n",
       "      <td>0.180134</td>\n",
       "      <td>0.355103</td>\n",
       "      <td>0.119684</td>\n",
       "      <td>0.002734</td>\n",
       "      <td>0.036148</td>\n",
       "      <td>0.033111</td>\n",
       "      <td>0.013973</td>\n",
       "      <td>0.211725</td>\n",
       "      <td>0.026428</td>\n",
       "      <td>0.017011</td>\n",
       "    </tr>\n",
       "    <tr>\n",
       "      <th>NOUN</th>\n",
       "      <td>0.004923</td>\n",
       "      <td>0.013055</td>\n",
       "      <td>0.009189</td>\n",
       "      <td>0.264632</td>\n",
       "      <td>0.240236</td>\n",
       "      <td>0.017139</td>\n",
       "      <td>0.176348</td>\n",
       "      <td>0.012034</td>\n",
       "      <td>0.042811</td>\n",
       "      <td>0.029100</td>\n",
       "      <td>0.043649</td>\n",
       "      <td>0.146884</td>\n",
       "    </tr>\n",
       "    <tr>\n",
       "      <th>.</th>\n",
       "      <td>0.066565</td>\n",
       "      <td>0.174867</td>\n",
       "      <td>0.079698</td>\n",
       "      <td>0.221643</td>\n",
       "      <td>0.093730</td>\n",
       "      <td>0.052622</td>\n",
       "      <td>0.090762</td>\n",
       "      <td>0.043267</td>\n",
       "      <td>0.058379</td>\n",
       "      <td>0.027076</td>\n",
       "      <td>0.002519</td>\n",
       "      <td>0.088783</td>\n",
       "    </tr>\n",
       "    <tr>\n",
       "      <th>ADV</th>\n",
       "      <td>0.014930</td>\n",
       "      <td>0.068016</td>\n",
       "      <td>0.031851</td>\n",
       "      <td>0.029861</td>\n",
       "      <td>0.135368</td>\n",
       "      <td>0.080624</td>\n",
       "      <td>0.119443</td>\n",
       "      <td>0.130392</td>\n",
       "      <td>0.006636</td>\n",
       "      <td>0.023557</td>\n",
       "      <td>0.013935</td>\n",
       "      <td>0.345388</td>\n",
       "    </tr>\n",
       "    <tr>\n",
       "      <th>ADP</th>\n",
       "      <td>0.068427</td>\n",
       "      <td>0.322998</td>\n",
       "      <td>0.062868</td>\n",
       "      <td>0.323746</td>\n",
       "      <td>0.039239</td>\n",
       "      <td>0.013151</td>\n",
       "      <td>0.017214</td>\n",
       "      <td>0.106704</td>\n",
       "      <td>0.000855</td>\n",
       "      <td>0.035069</td>\n",
       "      <td>0.001497</td>\n",
       "      <td>0.008233</td>\n",
       "    </tr>\n",
       "    <tr>\n",
       "      <th>ADJ</th>\n",
       "      <td>0.000660</td>\n",
       "      <td>0.004946</td>\n",
       "      <td>0.020445</td>\n",
       "      <td>0.698928</td>\n",
       "      <td>0.064303</td>\n",
       "      <td>0.004946</td>\n",
       "      <td>0.077494</td>\n",
       "      <td>0.067106</td>\n",
       "      <td>0.016818</td>\n",
       "      <td>0.021764</td>\n",
       "      <td>0.010387</td>\n",
       "      <td>0.012201</td>\n",
       "    </tr>\n",
       "    <tr>\n",
       "      <th>CONJ</th>\n",
       "      <td>0.060648</td>\n",
       "      <td>0.119907</td>\n",
       "      <td>0.041204</td>\n",
       "      <td>0.351852</td>\n",
       "      <td>0.035185</td>\n",
       "      <td>0.052778</td>\n",
       "      <td>0.052315</td>\n",
       "      <td>0.116204</td>\n",
       "      <td>0.000463</td>\n",
       "      <td>0.008333</td>\n",
       "      <td>0.005093</td>\n",
       "      <td>0.156019</td>\n",
       "    </tr>\n",
       "    <tr>\n",
       "      <th>X</th>\n",
       "      <td>0.055379</td>\n",
       "      <td>0.054903</td>\n",
       "      <td>0.001904</td>\n",
       "      <td>0.062996</td>\n",
       "      <td>0.162805</td>\n",
       "      <td>0.024913</td>\n",
       "      <td>0.144716</td>\n",
       "      <td>0.017137</td>\n",
       "      <td>0.010473</td>\n",
       "      <td>0.073786</td>\n",
       "      <td>0.185814</td>\n",
       "      <td>0.205173</td>\n",
       "    </tr>\n",
       "    <tr>\n",
       "      <th>PRT</th>\n",
       "      <td>0.017991</td>\n",
       "      <td>0.102061</td>\n",
       "      <td>0.054302</td>\n",
       "      <td>0.247628</td>\n",
       "      <td>0.041871</td>\n",
       "      <td>0.010468</td>\n",
       "      <td>0.020281</td>\n",
       "      <td>0.085051</td>\n",
       "      <td>0.002290</td>\n",
       "      <td>0.014066</td>\n",
       "      <td>0.001636</td>\n",
       "      <td>0.402355</td>\n",
       "    </tr>\n",
       "    <tr>\n",
       "      <th>VERB</th>\n",
       "      <td>0.035739</td>\n",
       "      <td>0.134584</td>\n",
       "      <td>0.021707</td>\n",
       "      <td>0.109931</td>\n",
       "      <td>0.034809</td>\n",
       "      <td>0.082254</td>\n",
       "      <td>0.090937</td>\n",
       "      <td>0.065354</td>\n",
       "      <td>0.005349</td>\n",
       "      <td>0.219474</td>\n",
       "      <td>0.031398</td>\n",
       "      <td>0.168463</td>\n",
       "    </tr>\n",
       "  </tbody>\n",
       "</table>\n",
       "</div>"
      ],
      "text/plain": [
       "          PRON       DET       NUM      NOUN         .       ADV       ADP  \\\n",
       "PRON  0.007651  0.009564  0.007651  0.205432  0.040551  0.033282  0.022953   \n",
       "DET   0.003497  0.005668  0.022431  0.640014  0.017246  0.012422  0.009407   \n",
       "NUM   0.001519  0.002430  0.180134  0.355103  0.119684  0.002734  0.036148   \n",
       "NOUN  0.004923  0.013055  0.009189  0.264632  0.240236  0.017139  0.176348   \n",
       ".     0.066565  0.174867  0.079698  0.221643  0.093730  0.052622  0.090762   \n",
       "ADV   0.014930  0.068016  0.031851  0.029861  0.135368  0.080624  0.119443   \n",
       "ADP   0.068427  0.322998  0.062868  0.323746  0.039239  0.013151  0.017214   \n",
       "ADJ   0.000660  0.004946  0.020445  0.698928  0.064303  0.004946  0.077494   \n",
       "CONJ  0.060648  0.119907  0.041204  0.351852  0.035185  0.052778  0.052315   \n",
       "X     0.055379  0.054903  0.001904  0.062996  0.162805  0.024913  0.144716   \n",
       "PRT   0.017991  0.102061  0.054302  0.247628  0.041871  0.010468  0.020281   \n",
       "VERB  0.035739  0.134584  0.021707  0.109931  0.034809  0.082254  0.090937   \n",
       "\n",
       "           ADJ      CONJ         X       PRT      VERB  \n",
       "PRON  0.073833  0.005356  0.094874  0.012242  0.486611  \n",
       "DET   0.204052  0.000482  0.044621  0.000241  0.039918  \n",
       "NUM   0.033111  0.013973  0.211725  0.026428  0.017011  \n",
       "NOUN  0.012034  0.042811  0.029100  0.043649  0.146884  \n",
       ".     0.043267  0.058379  0.027076  0.002519  0.088783  \n",
       "ADV   0.130392  0.006636  0.023557  0.013935  0.345388  \n",
       "ADP   0.106704  0.000855  0.035069  0.001497  0.008233  \n",
       "ADJ   0.067106  0.016818  0.021764  0.010387  0.012201  \n",
       "CONJ  0.116204  0.000463  0.008333  0.005093  0.156019  \n",
       "X     0.017137  0.010473  0.073786  0.185814  0.205173  \n",
       "PRT   0.085051  0.002290  0.014066  0.001636  0.402355  \n",
       "VERB  0.065354  0.005349  0.219474  0.031398  0.168463  "
      ]
     },
     "execution_count": 19,
     "metadata": {},
     "output_type": "execute_result"
    }
   ],
   "source": [
    "tags_df"
   ]
  },
  {
   "cell_type": "code",
   "execution_count": 20,
   "metadata": {},
   "outputs": [
    {
     "data": {
      "text/plain": [
       "PRON    0.066565\n",
       "DET     0.174867\n",
       "NUM     0.079698\n",
       "NOUN    0.221643\n",
       ".       0.093730\n",
       "ADV     0.052622\n",
       "ADP     0.090762\n",
       "ADJ     0.043267\n",
       "CONJ    0.058379\n",
       "X       0.027076\n",
       "PRT     0.002519\n",
       "VERB    0.088783\n",
       "Name: ., dtype: float32"
      ]
     },
     "execution_count": 20,
     "metadata": {},
     "output_type": "execute_result"
    }
   ],
   "source": [
    "tags_df.loc['.', :]"
   ]
  },
  {
   "cell_type": "code",
   "execution_count": 21,
   "metadata": {},
   "outputs": [
    {
     "data": {
      "image/png": "[encoded data removed]",
      "text/plain": [
       "<Figure size 1296x864 with 2 Axes>"
      ]
     },
     "metadata": {},
     "output_type": "display_data"
    }
   ],
   "source": [
    "# heatmap of tags matrix\n",
    "# T(i, j) means P(tag j given tag i)\n",
    "plt.figure(figsize=(18, 12))\n",
    "sns.heatmap(tags_df)\n",
    "plt.show()"
   ]
  },
  {
   "cell_type": "code",
   "execution_count": 22,
   "metadata": {},
   "outputs": [
    {
     "data": {
      "image/png": "[encoded data removed]",
      "text/plain": [
       "<Figure size 1296x864 with 2 Axes>"
      ]
     },
     "metadata": {},
     "output_type": "display_data"
    }
   ],
   "source": [
    "# frequent tags\n",
    "# filter the df to get P(t2, t1) > 0.5\n",
    "tags_frequent = tags_df[tags_df>0.5]\n",
    "plt.figure(figsize=(18, 12))\n",
    "sns.heatmap(tags_frequent)\n",
    "plt.show()"
   ]
  },
  {
   "cell_type": "code",
   "execution_count": null,
   "metadata": {},
   "outputs": [],
   "source": []
  },
  {
   "cell_type": "markdown",
   "metadata": {},
   "source": [
    "### Build the vanilla Viterbi based POS tagger"
   ]
  },
  {
   "cell_type": "code",
   "execution_count": 23,
   "metadata": {},
   "outputs": [],
   "source": [
    "# Viterbi Heuristic\n",
    "def Viterbi(words, train_bag = train_tagged_words):\n",
    "    state = []\n",
    "    T = list(set([pair[1] for pair in train_bag]))\n",
    "    \n",
    "    for key, word in enumerate(words):\n",
    "        #initialise list of probability column for a given observation\n",
    "        p = [] \n",
    "        for tag in T:\n",
    "            if key == 0:\n",
    "                transition_p = tags_df.loc['.', tag]\n",
    "            else:\n",
    "                transition_p = tags_df.loc[state[-1], tag]\n",
    "                \n",
    "            # compute emission and state probabilities\n",
    "            emission_p = word_given_tag(words[key], tag)[0]/word_given_tag(words[key], tag)[1]\n",
    "            state_probability = emission_p * transition_p    \n",
    "            p.append(state_probability)\n",
    "            \n",
    "        pmax = max(p)\n",
    "        # getting state for which probability is maximum\n",
    "        state_max = T[p.index(pmax)] \n",
    "        state.append(state_max)\n",
    "    return list(zip(words, state))"
   ]
  },
  {
   "cell_type": "code",
   "execution_count": 24,
   "metadata": {},
   "outputs": [
    {
     "data": {
      "text/plain": [
       "[[('``', '.'),\n",
       "  ('My', 'PRON'),\n",
       "  ('teacher', 'NOUN'),\n",
       "  ('said', 'VERB'),\n",
       "  ('0', 'X'),\n",
       "  ('it', 'PRON'),\n",
       "  ('*EXP*-1', 'X'),\n",
       "  ('was', 'VERB'),\n",
       "  ('OK', 'X'),\n",
       "  ('for', 'ADP'),\n",
       "  ('me', 'PRON'),\n",
       "  ('to', 'PRT'),\n",
       "  ('use', 'VERB'),\n",
       "  ('the', 'DET'),\n",
       "  ('notes', 'NOUN'),\n",
       "  ('on', 'ADP'),\n",
       "  ('the', 'DET'),\n",
       "  ('test', 'NOUN'),\n",
       "  (',', '.'),\n",
       "  (\"''\", '.'),\n",
       "  ('he', 'PRON'),\n",
       "  ('said', 'VERB'),\n",
       "  ('*T*-2', 'X'),\n",
       "  ('.', '.')],\n",
       " [('Composer', 'NOUN'),\n",
       "  ('Marc', 'NOUN'),\n",
       "  ('Marder', 'NOUN'),\n",
       "  (',', '.'),\n",
       "  ('a', 'DET'),\n",
       "  ('college', 'NOUN'),\n",
       "  ('friend', 'NOUN'),\n",
       "  ('of', 'ADP'),\n",
       "  ('Mr.', 'NOUN'),\n",
       "  ('Lane', 'NOUN'),\n",
       "  (\"'s\", 'PRT'),\n",
       "  ('who', 'PRON'),\n",
       "  ('*T*-66', 'X'),\n",
       "  ('earns', 'VERB'),\n",
       "  ('his', 'PRON'),\n",
       "  ('living', 'NOUN'),\n",
       "  ('*-1', 'X'),\n",
       "  ('playing', 'VERB'),\n",
       "  ('the', 'DET'),\n",
       "  ('double', 'ADJ'),\n",
       "  ('bass', 'NOUN'),\n",
       "  ('in', 'ADP'),\n",
       "  ('classical', 'ADJ'),\n",
       "  ('music', 'NOUN'),\n",
       "  ('ensembles', 'NOUN'),\n",
       "  (',', '.'),\n",
       "  ('has', 'VERB'),\n",
       "  ('prepared', 'VERB'),\n",
       "  ('an', 'DET'),\n",
       "  ('exciting', 'ADJ'),\n",
       "  (',', '.'),\n",
       "  ('eclectic', 'ADJ'),\n",
       "  ('score', 'NOUN'),\n",
       "  ('that', 'DET'),\n",
       "  ('*T*-67', 'X'),\n",
       "  ('tells', 'VERB'),\n",
       "  ('you', 'PRON'),\n",
       "  ('what', 'PRON'),\n",
       "  ('the', 'DET'),\n",
       "  ('characters', 'NOUN'),\n",
       "  ('are', 'VERB'),\n",
       "  ('thinking', 'VERB'),\n",
       "  ('*T*-2', 'X'),\n",
       "  ('and', 'CONJ'),\n",
       "  ('feeling', 'VERB'),\n",
       "  ('*T*-2', 'X'),\n",
       "  ('far', 'ADV'),\n",
       "  ('more', 'ADV'),\n",
       "  ('precisely', 'ADV'),\n",
       "  ('than', 'ADP'),\n",
       "  ('intertitles', 'NOUN'),\n",
       "  (',', '.'),\n",
       "  ('or', 'CONJ'),\n",
       "  ('even', 'ADV'),\n",
       "  ('words', 'NOUN'),\n",
       "  (',', '.'),\n",
       "  ('would', 'VERB'),\n",
       "  ('*?*', 'X'),\n",
       "  ('.', '.')],\n",
       " [('Troubled', 'NOUN'),\n",
       "  ('NBI', 'NOUN'),\n",
       "  ('Inc.', 'NOUN'),\n",
       "  ('said', 'VERB'),\n",
       "  ('0', 'X'),\n",
       "  ('it', 'PRON'),\n",
       "  ('fired', 'VERB'),\n",
       "  ('more', 'ADJ'),\n",
       "  ('than', 'ADP'),\n",
       "  ('half', 'DET'),\n",
       "  ('its', 'PRON'),\n",
       "  ('work', 'NOUN'),\n",
       "  ('force', 'NOUN'),\n",
       "  ('and', 'CONJ'),\n",
       "  ('is', 'VERB'),\n",
       "  ('discontinuing', 'VERB'),\n",
       "  ('its', 'PRON'),\n",
       "  ('hardware', 'NOUN'),\n",
       "  ('business', 'NOUN'),\n",
       "  ('*-1', 'X'),\n",
       "  ('to', 'PRT'),\n",
       "  ('focus', 'VERB'),\n",
       "  ('on', 'ADP'),\n",
       "  ('its', 'PRON'),\n",
       "  ('software', 'NOUN'),\n",
       "  ('and', 'CONJ'),\n",
       "  ('service', 'NOUN'),\n",
       "  ('operations', 'NOUN'),\n",
       "  ('.', '.')],\n",
       " [('Also', 'ADV'),\n",
       "  (',', '.'),\n",
       "  ('the', 'DET'),\n",
       "  ('reforms', 'NOUN'),\n",
       "  ('allow', 'VERB'),\n",
       "  ('the', 'DET'),\n",
       "  ('Big', 'NOUN'),\n",
       "  ('Board', 'NOUN'),\n",
       "  ('to', 'PRT'),\n",
       "  ('halt', 'VERB'),\n",
       "  ('trading', 'NOUN'),\n",
       "  ('for', 'ADP'),\n",
       "  ('one', 'NUM'),\n",
       "  ('hour', 'NOUN'),\n",
       "  ('if', 'ADP'),\n",
       "  ('the', 'DET'),\n",
       "  ('Dow', 'NOUN'),\n",
       "  ('Jones', 'NOUN'),\n",
       "  ('Industrial', 'NOUN'),\n",
       "  ('Average', 'NOUN'),\n",
       "  ('falls', 'VERB'),\n",
       "  ('250', 'NUM'),\n",
       "  ('points', 'NOUN'),\n",
       "  (',', '.'),\n",
       "  ('and', 'CONJ'),\n",
       "  ('for', 'ADP'),\n",
       "  ('two', 'NUM'),\n",
       "  ('more', 'ADJ'),\n",
       "  ('hours', 'NOUN'),\n",
       "  ('if', 'ADP'),\n",
       "  ('the', 'DET'),\n",
       "  ('Dow', 'NOUN'),\n",
       "  ('slides', 'VERB'),\n",
       "  ('an', 'DET'),\n",
       "  ('additional', 'ADJ'),\n",
       "  ('150', 'NUM'),\n",
       "  ('points', 'NOUN'),\n",
       "  ('on', 'ADP'),\n",
       "  ('the', 'DET'),\n",
       "  ('same', 'ADJ'),\n",
       "  ('day', 'NOUN'),\n",
       "  ('.', '.')],\n",
       " [('``', '.'),\n",
       "  ('*', 'X'),\n",
       "  ('Being', 'VERB'),\n",
       "  ('a', 'DET'),\n",
       "  ('teacher', 'NOUN'),\n",
       "  ('just', 'ADV'),\n",
       "  ('became', 'VERB'),\n",
       "  ('my', 'PRON'),\n",
       "  ('life', 'NOUN'),\n",
       "  (',', '.'),\n",
       "  (\"''\", '.'),\n",
       "  ('says', 'VERB'),\n",
       "  ('*T*-1', 'X'),\n",
       "  ('the', 'DET'),\n",
       "  ('37-year-old', 'ADJ'),\n",
       "  ('Mrs.', 'NOUN'),\n",
       "  ('Yeargin', 'NOUN'),\n",
       "  (',', '.'),\n",
       "  ('a', 'DET'),\n",
       "  ('teacher', 'NOUN'),\n",
       "  ('for', 'ADP'),\n",
       "  ('12', 'NUM'),\n",
       "  ('years', 'NOUN'),\n",
       "  ('before', 'ADP'),\n",
       "  ('her', 'PRON'),\n",
       "  ('dismissal', 'NOUN'),\n",
       "  ('.', '.'),\n",
       "  ('``', '.')],\n",
       " [('--', '.'),\n",
       "  ('In', 'ADP'),\n",
       "  ('Britain', 'NOUN'),\n",
       "  (',', '.'),\n",
       "  ('the', 'DET'),\n",
       "  ('benchmark', 'NOUN'),\n",
       "  ('11', 'NUM'),\n",
       "  ('3\\\\/4', 'NUM'),\n",
       "  ('%', 'NOUN'),\n",
       "  ('bond', 'NOUN'),\n",
       "  ('due', 'ADJ'),\n",
       "  ('2003\\\\/2007', 'NUM'),\n",
       "  ('fell', 'VERB'),\n",
       "  ('14\\\\/32', 'NUM'),\n",
       "  ('to', 'PRT'),\n",
       "  ('111', 'NUM'),\n",
       "  ('2\\\\/32', 'NUM'),\n",
       "  ('*-1', 'X'),\n",
       "  ('to', 'PRT'),\n",
       "  ('yield', 'VERB'),\n",
       "  ('10.19', 'NUM'),\n",
       "  ('%', 'NOUN'),\n",
       "  ('.', '.')],\n",
       " [('The', 'DET'),\n",
       "  ('last', 'ADJ'),\n",
       "  ('time', 'NOUN'),\n",
       "  ('0', 'X'),\n",
       "  ('the', 'DET'),\n",
       "  ('S&P', 'NOUN'),\n",
       "  ('500', 'NUM'),\n",
       "  ('yield', 'NOUN'),\n",
       "  ('dropped', 'VERB'),\n",
       "  ('below', 'ADP'),\n",
       "  ('3', 'NUM'),\n",
       "  ('%', 'NOUN'),\n",
       "  ('*T*-1', 'X'),\n",
       "  ('was', 'VERB'),\n",
       "  ('in', 'ADP'),\n",
       "  ('the', 'DET'),\n",
       "  ('summer', 'NOUN'),\n",
       "  ('of', 'ADP'),\n",
       "  ('1987', 'NUM'),\n",
       "  ('.', '.')],\n",
       " [('Cathryn', 'NOUN'),\n",
       "  ('Rice', 'NOUN'),\n",
       "  ('could', 'VERB'),\n",
       "  ('hardly', 'ADV'),\n",
       "  ('believe', 'VERB'),\n",
       "  ('her', 'PRON'),\n",
       "  ('eyes', 'NOUN'),\n",
       "  ('.', '.')],\n",
       " [('The', 'DET'),\n",
       "  ('new', 'ADJ'),\n",
       "  ('ad', 'NOUN'),\n",
       "  ('plan', 'NOUN'),\n",
       "  ('from', 'ADP'),\n",
       "  ('Newsweek', 'NOUN'),\n",
       "  (',', '.'),\n",
       "  ('a', 'DET'),\n",
       "  ('unit', 'NOUN'),\n",
       "  ('of', 'ADP'),\n",
       "  ('the', 'DET'),\n",
       "  ('Washington', 'NOUN'),\n",
       "  ('Post', 'NOUN'),\n",
       "  ('Co.', 'NOUN'),\n",
       "  (',', '.'),\n",
       "  ('is', 'VERB'),\n",
       "  ('the', 'DET'),\n",
       "  ('second', 'ADJ'),\n",
       "  ('incentive', 'NOUN'),\n",
       "  ('plan', 'NOUN'),\n",
       "  ('0', 'X'),\n",
       "  ('the', 'DET'),\n",
       "  ('magazine', 'NOUN'),\n",
       "  ('has', 'VERB'),\n",
       "  ('offered', 'VERB'),\n",
       "  ('advertisers', 'NOUN'),\n",
       "  ('*T*-1', 'X'),\n",
       "  ('in', 'ADP'),\n",
       "  ('three', 'NUM'),\n",
       "  ('years', 'NOUN'),\n",
       "  ('.', '.')],\n",
       " [('Panama', 'NOUN'),\n",
       "  ('was', 'VERB'),\n",
       "  ('stripped', 'VERB'),\n",
       "  ('*-8', 'X'),\n",
       "  ('of', 'ADP'),\n",
       "  ('this', 'DET'),\n",
       "  ('right', 'NOUN'),\n",
       "  ('because', 'ADP'),\n",
       "  ('of', 'ADP'),\n",
       "  ('U.S.', 'NOUN'),\n",
       "  ('differences', 'NOUN'),\n",
       "  ('with', 'ADP'),\n",
       "  ('the', 'DET'),\n",
       "  ('Noriega', 'NOUN'),\n",
       "  ('regime', 'NOUN'),\n",
       "  (',', '.'),\n",
       "  ('but', 'CONJ'),\n",
       "  ('the', 'DET'),\n",
       "  ('Central', 'NOUN'),\n",
       "  ('American', 'NOUN'),\n",
       "  ('country', 'NOUN'),\n",
       "  ('would', 'VERB'),\n",
       "  ('have', 'VERB'),\n",
       "  ('received', 'VERB'),\n",
       "  ('a', 'DET'),\n",
       "  ('quota', 'NOUN'),\n",
       "  ('of', 'ADP'),\n",
       "  ('30,537', 'NUM'),\n",
       "  ('metric', 'ADJ'),\n",
       "  ('tons', 'NOUN'),\n",
       "  ('over', 'ADP'),\n",
       "  ('a', 'DET'),\n",
       "  ('21-month', 'ADJ'),\n",
       "  ('period', 'NOUN'),\n",
       "  ('ending', 'VERB'),\n",
       "  ('Sept.', 'NOUN'),\n",
       "  ('30', 'NUM'),\n",
       "  (',', '.'),\n",
       "  ('1990', 'NUM'),\n",
       "  ('.', '.')]]"
      ]
     },
     "execution_count": 24,
     "metadata": {},
     "output_type": "execute_result"
    }
   ],
   "source": [
    "# Running on entire test dataset would take more than 3-4hrs. \n",
    "# Let's test our Viterbi algorithm on a few sample sentences of test dataset\n",
    "\n",
    "random.seed(1234)\n",
    "\n",
    "# choose random 5 sents\n",
    "rndom = [random.randint(1,len(valid_set)) for x in range(10)]\n",
    "\n",
    "# list of sents\n",
    "test_run = [valid_set[i] for i in rndom]\n",
    "\n",
    "# list of tagged words\n",
    "test_run_base = [tup for sent in test_run for tup in sent]\n",
    "\n",
    "# list of untagged words\n",
    "test_tagged_words = [tup[0] for sent in test_run for tup in sent]\n",
    "test_run"
   ]
  },
  {
   "cell_type": "code",
   "execution_count": 25,
   "metadata": {},
   "outputs": [],
   "source": [
    "# tagging the test sentences\n",
    "start = time.time()\n",
    "tagged_seq = Viterbi(test_tagged_words)\n",
    "end = time.time()\n",
    "difference = end-start"
   ]
  },
  {
   "cell_type": "code",
   "execution_count": 26,
   "metadata": {},
   "outputs": [
    {
     "name": "stdout",
     "output_type": "stream",
     "text": [
      "Time taken in seconds:  39.747286319732666\n",
      "[('``', '.'), ('My', 'PRON'), ('teacher', 'NOUN'), ('said', 'VERB'), ('0', 'X'), ('it', 'PRON'), ('*EXP*-1', 'X'), ('was', 'VERB'), ('OK', 'PRON'), ('for', 'ADP'), ('me', 'PRON'), ('to', 'PRT'), ('use', 'VERB'), ('the', 'DET'), ('notes', 'NOUN'), ('on', 'ADP'), ('the', 'DET'), ('test', 'NOUN'), (',', '.'), (\"''\", '.'), ('he', 'PRON'), ('said', 'VERB'), ('*T*-2', 'X'), ('.', '.'), ('Composer', 'PRON'), ('Marc', 'PRON'), ('Marder', 'PRON'), (',', '.'), ('a', 'DET'), ('college', 'NOUN'), ('friend', 'NOUN'), ('of', 'ADP'), ('Mr.', 'NOUN'), ('Lane', 'NOUN'), (\"'s\", 'PRT'), ('who', 'PRON'), ('*T*-66', 'X'), ('earns', 'VERB'), ('his', 'PRON'), ('living', 'VERB'), ('*-1', 'X'), ('playing', 'VERB'), ('the', 'DET'), ('double', 'VERB'), ('bass', 'PRON'), ('in', 'ADP'), ('classical', 'PRON'), ('music', 'NOUN'), ('ensembles', 'PRON'), (',', '.'), ('has', 'VERB'), ('prepared', 'VERB'), ('an', 'DET'), ('exciting', 'PRON'), (',', '.'), ('eclectic', 'PRON'), ('score', 'NOUN'), ('that', 'ADP'), ('*T*-67', 'X'), ('tells', 'VERB'), ('you', 'PRON'), ('what', 'PRON'), ('the', 'DET'), ('characters', 'PRON'), ('are', 'VERB'), ('thinking', 'VERB'), ('*T*-2', 'X'), ('and', 'CONJ'), ('feeling', 'VERB'), ('*T*-2', 'X'), ('far', 'ADV'), ('more', 'ADJ'), ('precisely', 'ADV'), ('than', 'ADP'), ('intertitles', 'PRON'), (',', '.'), ('or', 'CONJ'), ('even', 'ADV'), ('words', 'NOUN'), (',', '.'), ('would', 'VERB'), ('*?*', 'X'), ('.', '.'), ('Troubled', 'PRON'), ('NBI', 'NOUN'), ('Inc.', 'NOUN'), ('said', 'VERB'), ('0', 'X'), ('it', 'PRON'), ('fired', 'VERB'), ('more', 'ADV'), ('than', 'ADP'), ('half', 'DET'), ('its', 'PRON'), ('work', 'VERB'), ('force', 'VERB'), ('and', 'CONJ'), ('is', 'VERB'), ('discontinuing', 'PRON'), ('its', 'PRON'), ('hardware', 'NOUN'), ('business', 'NOUN'), ('*-1', 'X'), ('to', 'PRT'), ('focus', 'VERB'), ('on', 'ADP'), ('its', 'PRON'), ('software', 'NOUN'), ('and', 'CONJ'), ('service', 'NOUN'), ('operations', 'NOUN'), ('.', '.'), ('Also', 'ADV'), (',', '.'), ('the', 'DET'), ('reforms', 'NOUN'), ('allow', 'VERB'), ('the', 'DET'), ('Big', 'NOUN'), ('Board', 'NOUN'), ('to', 'PRT'), ('halt', 'NOUN'), ('trading', 'NOUN'), ('for', 'ADP'), ('one', 'NUM'), ('hour', 'NOUN'), ('if', 'ADP'), ('the', 'DET'), ('Dow', 'NOUN'), ('Jones', 'NOUN'), ('Industrial', 'NOUN'), ('Average', 'NOUN'), ('falls', 'VERB'), ('250', 'NUM'), ('points', 'NOUN'), (',', '.'), ('and', 'CONJ'), ('for', 'ADP'), ('two', 'NUM'), ('more', 'ADJ'), ('hours', 'NOUN'), ('if', 'ADP'), ('the', 'DET'), ('Dow', 'NOUN'), ('slides', 'NOUN'), ('an', 'DET'), ('additional', 'ADJ'), ('150', 'NUM'), ('points', 'NOUN'), ('on', 'ADP'), ('the', 'DET'), ('same', 'ADJ'), ('day', 'NOUN'), ('.', '.'), ('``', '.'), ('*', 'X'), ('Being', 'PRON'), ('a', 'DET'), ('teacher', 'NOUN'), ('just', 'ADV'), ('became', 'VERB'), ('my', 'PRON'), ('life', 'NOUN'), (',', '.'), (\"''\", '.'), ('says', 'VERB'), ('*T*-1', 'X'), ('the', 'DET'), ('37-year-old', 'PRON'), ('Mrs.', 'NOUN'), ('Yeargin', 'NOUN'), (',', '.'), ('a', 'DET'), ('teacher', 'NOUN'), ('for', 'ADP'), ('12', 'NUM'), ('years', 'NOUN'), ('before', 'ADP'), ('her', 'PRON'), ('dismissal', 'PRON'), ('.', '.'), ('``', '.'), ('--', '.'), ('In', 'ADP'), ('Britain', 'NOUN'), (',', '.'), ('the', 'DET'), ('benchmark', 'NOUN'), ('11', 'NUM'), ('3\\\\/4', 'NUM'), ('%', 'NOUN'), ('bond', 'NOUN'), ('due', 'ADJ'), ('2003\\\\/2007', 'PRON'), ('fell', 'VERB'), ('14\\\\/32', 'PRON'), ('to', 'PRT'), ('111', 'NUM'), ('2\\\\/32', 'NUM'), ('*-1', 'X'), ('to', 'PRT'), ('yield', 'VERB'), ('10.19', 'PRON'), ('%', 'NOUN'), ('.', '.'), ('The', 'DET'), ('last', 'ADJ'), ('time', 'NOUN'), ('0', 'X'), ('the', 'DET'), ('S&P', 'NOUN'), ('500', 'NUM'), ('yield', 'NOUN'), ('dropped', 'VERB'), ('below', 'ADP'), ('3', 'NUM'), ('%', 'NOUN'), ('*T*-1', 'X'), ('was', 'VERB'), ('in', 'ADP'), ('the', 'DET'), ('summer', 'NOUN'), ('of', 'ADP'), ('1987', 'NUM'), ('.', '.'), ('Cathryn', 'NOUN'), ('Rice', 'NOUN'), ('could', 'VERB'), ('hardly', 'ADV'), ('believe', 'VERB'), ('her', 'PRON'), ('eyes', 'NOUN'), ('.', '.'), ('The', 'DET'), ('new', 'ADJ'), ('ad', 'NOUN'), ('plan', 'NOUN'), ('from', 'ADP'), ('Newsweek', 'NOUN'), (',', '.'), ('a', 'DET'), ('unit', 'NOUN'), ('of', 'ADP'), ('the', 'DET'), ('Washington', 'NOUN'), ('Post', 'PRON'), ('Co.', 'NOUN'), (',', '.'), ('is', 'VERB'), ('the', 'DET'), ('second', 'ADJ'), ('incentive', 'NOUN'), ('plan', 'NOUN'), ('0', 'X'), ('the', 'DET'), ('magazine', 'NOUN'), ('has', 'VERB'), ('offered', 'VERB'), ('advertisers', 'NOUN'), ('*T*-1', 'X'), ('in', 'ADP'), ('three', 'NUM'), ('years', 'NOUN'), ('.', '.'), ('Panama', 'NOUN'), ('was', 'VERB'), ('stripped', 'PRON'), ('*-8', 'X'), ('of', 'ADP'), ('this', 'DET'), ('right', 'NOUN'), ('because', 'ADP'), ('of', 'ADP'), ('U.S.', 'NOUN'), ('differences', 'NOUN'), ('with', 'ADP'), ('the', 'DET'), ('Noriega', 'PRON'), ('regime', 'PRON'), (',', '.'), ('but', 'CONJ'), ('the', 'DET'), ('Central', 'NOUN'), ('American', 'NOUN'), ('country', 'NOUN'), ('would', 'VERB'), ('have', 'VERB'), ('received', 'VERB'), ('a', 'DET'), ('quota', 'NOUN'), ('of', 'ADP'), ('30,537', 'PRON'), ('metric', 'ADJ'), ('tons', 'NOUN'), ('over', 'ADP'), ('a', 'DET'), ('21-month', 'PRON'), ('period', 'NOUN'), ('ending', 'VERB'), ('Sept.', 'NOUN'), ('30', 'NUM'), (',', '.'), ('1990', 'NUM'), ('.', '.')]\n"
     ]
    }
   ],
   "source": [
    "print(\"Time taken in seconds: \", difference)\n",
    "print(tagged_seq)\n",
    "#print(test_run_base)"
   ]
  },
  {
   "cell_type": "code",
   "execution_count": 27,
   "metadata": {},
   "outputs": [],
   "source": [
    "# accuracy\n",
    "check = [i for i, j in zip(tagged_seq, test_run_base) if i == j] "
   ]
  },
  {
   "cell_type": "code",
   "execution_count": 28,
   "metadata": {},
   "outputs": [
    {
     "data": {
      "text/plain": [
       "0.8881578947368421"
      ]
     },
     "execution_count": 28,
     "metadata": {},
     "output_type": "execute_result"
    }
   ],
   "source": [
    "accuracy = len(check)/len(tagged_seq)\n",
    "accuracy"
   ]
  },
  {
   "cell_type": "code",
   "execution_count": 29,
   "metadata": {},
   "outputs": [],
   "source": [
    "incorrect_tagged_cases = [[test_run_base[i-1],j] for i, j in enumerate(zip(tagged_seq, test_run_base)) if j[0]!=j[1]]"
   ]
  },
  {
   "cell_type": "code",
   "execution_count": 30,
   "metadata": {},
   "outputs": [
    {
     "data": {
      "text/plain": [
       "[[('was', 'VERB'), (('OK', 'PRON'), ('OK', 'X'))],\n",
       " [('.', '.'), (('Composer', 'PRON'), ('Composer', 'NOUN'))],\n",
       " [('Composer', 'NOUN'), (('Marc', 'PRON'), ('Marc', 'NOUN'))],\n",
       " [('Marc', 'NOUN'), (('Marder', 'PRON'), ('Marder', 'NOUN'))],\n",
       " [('his', 'PRON'), (('living', 'VERB'), ('living', 'NOUN'))],\n",
       " [('the', 'DET'), (('double', 'VERB'), ('double', 'ADJ'))],\n",
       " [('double', 'ADJ'), (('bass', 'PRON'), ('bass', 'NOUN'))],\n",
       " [('in', 'ADP'), (('classical', 'PRON'), ('classical', 'ADJ'))],\n",
       " [('music', 'NOUN'), (('ensembles', 'PRON'), ('ensembles', 'NOUN'))],\n",
       " [('an', 'DET'), (('exciting', 'PRON'), ('exciting', 'ADJ'))],\n",
       " [(',', '.'), (('eclectic', 'PRON'), ('eclectic', 'ADJ'))],\n",
       " [('score', 'NOUN'), (('that', 'ADP'), ('that', 'DET'))],\n",
       " [('the', 'DET'), (('characters', 'PRON'), ('characters', 'NOUN'))],\n",
       " [('far', 'ADV'), (('more', 'ADJ'), ('more', 'ADV'))],\n",
       " [('than', 'ADP'), (('intertitles', 'PRON'), ('intertitles', 'NOUN'))],\n",
       " [('.', '.'), (('Troubled', 'PRON'), ('Troubled', 'NOUN'))],\n",
       " [('fired', 'VERB'), (('more', 'ADV'), ('more', 'ADJ'))],\n",
       " [('its', 'PRON'), (('work', 'VERB'), ('work', 'NOUN'))],\n",
       " [('work', 'NOUN'), (('force', 'VERB'), ('force', 'NOUN'))],\n",
       " [('is', 'VERB'), (('discontinuing', 'PRON'), ('discontinuing', 'VERB'))],\n",
       " [('to', 'PRT'), (('halt', 'NOUN'), ('halt', 'VERB'))],\n",
       " [('Dow', 'NOUN'), (('slides', 'NOUN'), ('slides', 'VERB'))],\n",
       " [('*', 'X'), (('Being', 'PRON'), ('Being', 'VERB'))],\n",
       " [('the', 'DET'), (('37-year-old', 'PRON'), ('37-year-old', 'ADJ'))],\n",
       " [('her', 'PRON'), (('dismissal', 'PRON'), ('dismissal', 'NOUN'))],\n",
       " [('due', 'ADJ'), (('2003\\\\/2007', 'PRON'), ('2003\\\\/2007', 'NUM'))],\n",
       " [('fell', 'VERB'), (('14\\\\/32', 'PRON'), ('14\\\\/32', 'NUM'))],\n",
       " [('yield', 'VERB'), (('10.19', 'PRON'), ('10.19', 'NUM'))],\n",
       " [('Washington', 'NOUN'), (('Post', 'PRON'), ('Post', 'NOUN'))],\n",
       " [('was', 'VERB'), (('stripped', 'PRON'), ('stripped', 'VERB'))],\n",
       " [('the', 'DET'), (('Noriega', 'PRON'), ('Noriega', 'NOUN'))],\n",
       " [('Noriega', 'NOUN'), (('regime', 'PRON'), ('regime', 'NOUN'))],\n",
       " [('of', 'ADP'), (('30,537', 'PRON'), ('30,537', 'NUM'))],\n",
       " [('a', 'DET'), (('21-month', 'PRON'), ('21-month', 'ADJ'))]]"
      ]
     },
     "execution_count": 30,
     "metadata": {},
     "output_type": "execute_result"
    }
   ],
   "source": [
    "incorrect_tagged_cases"
   ]
  },
  {
   "cell_type": "code",
   "execution_count": null,
   "metadata": {},
   "outputs": [],
   "source": []
  },
  {
   "cell_type": "code",
   "execution_count": 31,
   "metadata": {},
   "outputs": [],
   "source": [
    "## Testing\n",
    "sentence_test = 'Twitter is the best networking social site. Man is a social animal. Data science is an emerging field. Data science jobs are high in demand.'\n",
    "words = word_tokenize(sentence_test)\n",
    "\n",
    "start = time.time()\n",
    "tagged_seq = Viterbi(words)\n",
    "end = time.time()\n",
    "difference = end-start"
   ]
  },
  {
   "cell_type": "code",
   "execution_count": 32,
   "metadata": {},
   "outputs": [
    {
     "name": "stdout",
     "output_type": "stream",
     "text": [
      "[('Twitter', 'PRON'), ('is', 'VERB'), ('the', 'DET'), ('best', 'ADJ'), ('networking', 'NOUN'), ('social', 'ADJ'), ('site', 'PRON'), ('.', '.'), ('Man', 'NOUN'), ('is', 'VERB'), ('a', 'DET'), ('social', 'ADJ'), ('animal', 'PRON'), ('.', '.'), ('Data', 'NOUN'), ('science', 'NOUN'), ('is', 'VERB'), ('an', 'DET'), ('emerging', 'VERB'), ('field', 'NOUN'), ('.', '.'), ('Data', 'NOUN'), ('science', 'NOUN'), ('jobs', 'NOUN'), ('are', 'VERB'), ('high', 'ADJ'), ('in', 'ADP'), ('demand', 'NOUN'), ('.', '.')]\n",
      "3.919833183288574\n"
     ]
    }
   ],
   "source": [
    "print(tagged_seq)\n",
    "print(difference)"
   ]
  },
  {
   "cell_type": "code",
   "execution_count": null,
   "metadata": {},
   "outputs": [],
   "source": []
  },
  {
   "cell_type": "markdown",
   "metadata": {},
   "source": [
    "### Solve the problem of unknown words"
   ]
  },
  {
   "cell_type": "code",
   "execution_count": null,
   "metadata": {},
   "outputs": [],
   "source": []
  },
  {
   "cell_type": "code",
   "execution_count": null,
   "metadata": {},
   "outputs": [],
   "source": []
  },
  {
   "cell_type": "markdown",
   "metadata": {},
   "source": [
    "#### Evaluating tagging accuracy"
   ]
  },
  {
   "cell_type": "code",
   "execution_count": null,
   "metadata": {},
   "outputs": [],
   "source": []
  },
  {
   "cell_type": "code",
   "execution_count": null,
   "metadata": {},
   "outputs": [],
   "source": []
  },
  {
   "cell_type": "markdown",
   "metadata": {},
   "source": [
    "### Compare the tagging accuracies of the modifications with the vanilla Viterbi algorithm"
   ]
  },
  {
   "cell_type": "code",
   "execution_count": null,
   "metadata": {},
   "outputs": [],
   "source": []
  },
  {
   "cell_type": "code",
   "execution_count": null,
   "metadata": {},
   "outputs": [],
   "source": []
  },
  {
   "cell_type": "code",
   "execution_count": null,
   "metadata": {},
   "outputs": [],
   "source": []
  },
  {
   "cell_type": "markdown",
   "metadata": {},
   "source": [
    "### List down cases which were incorrectly tagged by original POS tagger and got corrected by your modifications"
   ]
  },
  {
   "cell_type": "code",
   "execution_count": null,
   "metadata": {},
   "outputs": [],
   "source": []
  },
  {
   "cell_type": "code",
   "execution_count": null,
   "metadata": {},
   "outputs": [],
   "source": []
  },
  {
   "cell_type": "code",
   "execution_count": null,
   "metadata": {},
   "outputs": [],
   "source": []
  }
 ],
 "metadata": {
  "kernelspec": {
   "display_name": "Python 3",
   "language": "python",
   "name": "python3"
  },
  "language_info": {
   "codemirror_mode": {
    "name": "ipython",
    "version": 3
   },
   "file_extension": ".py",
   "mimetype": "text/x-python",
   "name": "python",
   "nbconvert_exporter": "python",
   "pygments_lexer": "ipython3",
   "version": "3.6.5"
  }
 },
 "nbformat": 4,
 "nbformat_minor": 2
}
